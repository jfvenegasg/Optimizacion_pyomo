{
 "cells": [
  {
   "cell_type": "markdown",
   "id": "14ed00c2",
   "metadata": {},
   "source": [
    "# Introducción a optimización en python"
   ]
  },
  {
   "cell_type": "markdown",
   "id": "d7c773d6",
   "metadata": {},
   "source": [
    "<center>\n",
    "<img src=\"optimizacion.png\">\n"
   ]
  },
  {
   "cell_type": "markdown",
   "id": "2893bc76",
   "metadata": {},
   "source": [
    "## Objetivos\n",
    "\n",
    "* Librería Gurobi\n",
    "* Modelamiento matematico\n",
    "* Modelación con Gurobi"
   ]
  },
  {
   "cell_type": "markdown",
   "id": "f8383eeb",
   "metadata": {},
   "source": [
    "## Indice\n",
    "\n",
    "1. [Modelamiento Matematico](#Modelamiento-Matematico)\n",
    "1. [Libreria Gurobi](#Libreria-Gurobi)\n",
    "1. [Modelación con Gurobi](#Modelación-con-Gurobi)"
   ]
  },
  {
   "cell_type": "markdown",
   "id": "2601c3ef",
   "metadata": {},
   "source": [
    "## Modelamiento Matematico\n",
    "\n",
    "El modelamiento matemático es una estructura cientifica que nos permite mediante una formulación,expresar las relaciones que pueden existir entre un conjunto de eventos,parametros,entidades o entre sistemas.En este sentido generalmente buscamos modelar las relaciones existentes entre fenomenos reales tangibles o posibles intangibles.Es asi que para distintos tipos de fenomenos algunos paradigmas permiten explicar o abstraer de mejor forma las situaciones de analisis.Sin embargo hay algunas clasificaciones iniciales que podemos hacer.\n",
    "\n",
    "### Modelo según el tipo de representación\n",
    "\n",
    "Cuando buscamos modelar matematicamente una situación existen 2 perspectivas fuertes,las que nos permiten distinguir de distinta forma aspectos de la misma naturaleza de la situación o el objeto de analisis y estos son:\n",
    "\n",
    "**Modelos cualitativos**:Estos permiten representar mediante diagramas o graficos,las relaciones entre los sistemas de interes.Asi estos solo buscan describir las direcciones generales o particulares del sistema.\n",
    "\n",
    "**Modelos cuantitativos**:En cambio estos buscan mediante números,representar las relaciones y parametros del o los sistemas,permitiendo la integración de los mecanismos de acción mediante formulas o algoritmos de menor o mayor complejidad.\n"
   ]
  }
 ],
 "metadata": {
  "kernelspec": {
   "display_name": "Python 3 (ipykernel)",
   "language": "python",
   "name": "python3"
  },
  "language_info": {
   "codemirror_mode": {
    "name": "ipython",
    "version": 3
   },
   "file_extension": ".py",
   "mimetype": "text/x-python",
   "name": "python",
   "nbconvert_exporter": "python",
   "pygments_lexer": "ipython3",
   "version": "3.10.7"
  }
 },
 "nbformat": 4,
 "nbformat_minor": 5
}
