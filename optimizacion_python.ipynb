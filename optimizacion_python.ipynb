{
 "cells": [
  {
   "cell_type": "markdown",
   "id": "4407c612",
   "metadata": {},
   "source": [
    "# Introducción a la optimización en Python con Gurobi"
   ]
  },
  {
   "cell_type": "markdown",
   "id": "dba09f48",
   "metadata": {},
   "source": [
    "<center>\n",
    "<img src=https://miro.medium.com/max/748/1*emPDLzTy0oW5BWLuxDSbKQ.png>"
   ]
  },
  {
   "cell_type": "markdown",
   "id": "794e4649",
   "metadata": {},
   "source": [
    "## Objetivos\n",
    "\n",
    "* Comprender la importancia del modelado matematico\n",
    "* Como modelar problemas de optimización\n",
    "* Modelar problemas de optimización con la librería Pyomo"
   ]
  },
  {
   "cell_type": "markdown",
   "id": "0a6654d2",
   "metadata": {},
   "source": [
    "<a id='Índice'></a>\n",
    "## Indice\n",
    "[Inicio ▲](#Indice)\n",
    "\n",
    "1. [Modelamiento Matemático](#Modelamiento-Matematico)\n",
    "1. [Programación Lineal](#Programación-Lineal)\n",
    "1. [Programación Entera](#Programación-Entera)\n",
    "1. [Librería Gurobi](#Libreria-Gurobi)\n",
    "1. [Modelamiento con Gurobi](#Modelamiento-con-Gurobi)"
   ]
  },
  {
   "cell_type": "markdown",
   "id": "bf674f8a",
   "metadata": {},
   "source": [
    "<a id='Modelamiento-Matemático'></a>\n",
    "## Modelamiento Matemático 🥪\n",
    "\n",
    "[Inicio ▲](#Indice)\n",
    "\n",
    "El modelamiento matemático es una estructura científica que nos permite mediante una formulación,expresar las relaciones que pueden existir entre un conjunto de eventos,parámetros,entidades o sistemas.En este sentido generalmente buscamos modelar las relaciones existentes entre fenómenos reales tangibles o intangibles.Es asi que para distintos tipos de fenómenos, algunos paradigmas permiten explicar o abstraer de mejor forma las situaciones de análisis.Sin embargo hay algunas clasificaciones iniciales que podemos hacer.\n",
    "\n",
    "    \n",
    "\n",
    "### Modelo según el tipo de representación\n",
    "\n",
    "Cuando buscamos modelar matemáticamente una situación existen 2 perspectivas fuertes,las que nos permiten distinguir de distinta forma aspectos de la misma naturaleza de la situación o el objeto de análisis y estos son:\n",
    "\n",
    "**Modelos cualitativos**:Estos permiten representar mediante diagramas o gráficos,las relaciones entre los sistemas de interés.Asi estos solo buscan describir las direcciones generales o particulares del sistema.\n",
    "\n",
    "**Modelos cuantitativos**:En cambio estos buscan mediante números,representar las relaciones y parámetros del o los sistemas,permitiendo la integración de los mecanismos de acción mediante fórmulas o algoritmos de menor o mayor complejidad.\n",
    "\n"
   ]
  },
  {
   "cell_type": "markdown",
   "id": "80ca7bb6",
   "metadata": {},
   "source": [
    "Específicamente en este curso introductorio a optimización,revisaremos el modelamiento de algunos modelos clasicos de programación lineal y entera."
   ]
  },
  {
   "cell_type": "markdown",
   "id": "6b12fd73",
   "metadata": {},
   "source": [
    "<a id='Programación-Lineal'></a>\n",
    "## Programación Lineal 🧮\n",
    "\n",
    "[Inicio ▲](#Indice)\n",
    "\n",
    "Cuando hablamos de programación lineal,estamos considerando el campo que se dedica a maximizar o minimizar una función lineal,a la cual llamamos función objetivo.En este contexto,las variables que estan presentes en esta función se encuentran sujetas a un conjunto de restriciones establecidas en un sistema de ecuaciones.\n",
    "\n",
    "Un modelo típico de optimización lineal es como el que consideramos a continuación.\n",
    "\n",
    "$max \\{c^Tx :x \\in \\Re \\wedge Ax \\leq b \\wedge x \\geq 0\\}  $\n",
    "\n",
    "Pero tambien podemos desarrollar en su formulación estándar un caso particular.\n",
    "\n",
    "#### Función objetivo\n",
    "$f(x_{1},x_{2})=c_{1}x_{1}+c_{2}x_{2}$\n",
    "\n",
    "#### Restricciones\n",
    "\n",
    "$a_{11}x_{1}+a_{12}x_{2} \\leq b_{1}$\n",
    "\n",
    "$a_{21}x_{1}+a_{22}x_{2} \\leq b_{2}$\n",
    "\n",
    "$a_{31}x_{1}+a_{32}x_{2} \\leq b_{3}$\n",
    "\n",
    "#### Restricciones de no negatividad\n",
    "\n",
    "$x_{1} \\geq 0$\n",
    "\n",
    "$x_{2} \\geq 0$\n",
    "\n",
    "Generalmente el método para la resolución de problemas de programación lineal es el **método simplex** desarrollado por George Dantzig en 1947,el cual asegura encontrar el optimo global,sin embargo en algunos casos el algoritmo no presenta buenos resultados.Sin embargo existen otros métodos para la resolución de problemas de optimización lineal como el **algoritmo de cambio de base**,**algoritmo de punto interior**,**algoritmo elipsoide**,entre otros los que permiten asegurar óptimos globales pero en mejores tiempos de resolución.\n",
    "\n",
    "<a id='Programación-Entera'></a>\n",
    "## Programación-Entera 📦\n",
    "\n",
    "[Inicio ▲](#Indice)\n",
    "\n",
    "A diferencia de la programación lineal,en este caso todas las variables desconocidas son enteras,entonces consideramos el problema como de programación entera.Cabe destacar que en este caso los valores de las variables pueden solo tomar valores enteros.Sin embargo,si las variables pueden solo tomar los valores 0 y 1,estamos frente a una subcategoria de la programación entera,llamada **programación binaria.**\n",
    "\n",
    "Algunos de los métodos mas utilizadas para la resolución de este tipo de modelos corresponden a los algoritmos **Branch and bound**,**Branch and cut**,**planos de corte**,entre otros.\n",
    "\n",
    "A continuación,veremos el formulamiento de un problema clásico y de bastante interés en la literatura de programación entera,específicamente de programación binaria.\n",
    "\n",
    "### Problema de la mochila simple (Knapsack Problem)\n",
    "\n",
    "Si disponemos de $n$ objetos para llevar en una mochila.Cada uno de los objetos,tiene un peso $p_{j}$ y tiene una utilidad relativa para el viaje de $c_{j}$.Finalmente consideramos que la mochila solo admite un peso máximo de $b$.\n",
    "\n",
    "En este problema buscamos tomar la decisión de cuales son aquellos objetos que debemos seleccionar para llevar en la mochila,de manera tal que maximicemos la utilidad total.\n",
    "\n",
    "Si consideramos que cada objeto que podemos llevar se corresponde con una variable que puede ser asignada o no,entonces podemos definir lo siguiente:\n",
    "\n",
    "$\\begin{equation} x_{j} = \\left\\lbrace \\begin{array}{ll} 1 & \\text{si el objeto j se selecciona }  \\newline 0 & \\text{en otro caso }   \\end{array} \\right. \\end{equation}$\n",
    "\n",
    "Luego podemos definir 2 restricciones para el problema,primero el límite de peso de la mochila de acuerdo a los pesos $p_j$\n",
    "\n",
    "$\\sum_{j=1}^n p_{j}x_{j} \\leq b$\n",
    "\n",
    "y luego la condición para que las variables sean binarias.\n",
    "\n",
    "$x_{j} \\in \\{0,1\\} \\ \\ \\  \\ \\ \\ \\forall \\ \\ \\ j=1,...,n$\n",
    "\n",
    "Finalmente podemos definir la función objetivo que maximiza la utilidad relativa total\n",
    "\n",
    "$max \\sum_{j=1}^n c_{j}x_{j}$\n",
    "\n",
    "### Problema de la mochila de multiple elección \n",
    "\n",
    "A diferencia del problema anterior,en el problema de la mochila de múltiple elección los objetos se encuentran subdivididos en $k$ clases,en donde solo podemos tomar un item de cada una de las clases.De esta forma podemos formalizar el problema como\n",
    "\n",
    "$max \\sum_{i=1}^k \\sum_{j=1}^N v_{i,j}x_{i,j}$\n",
    "\n",
    "$\\sum_{i=1}^k \\sum_{j=1}^N w_{i,j} x_{i,j}$\n",
    "\n",
    "$\\sum_{j=1}^N x_{i,j}=1 \\ \\ \\ \\ \\forall \\ \\ 1\\leq i \\leq k$\n",
    "\n",
    "$x_{i,j} \\in \\{0,1\\} \\ \\ \\ \\forall \\ \\  1 \\leq i  \\leq k ,\\ j \\in N$\n",
    "\n"
   ]
  },
  {
   "cell_type": "markdown",
   "id": "93f13a28-545f-4d32-9076-981c71cae373",
   "metadata": {},
   "source": [
    "<a id='Libreria-Pyomo'></a>\n",
    "## Libreria Pyomo 🎨\n",
    "\n",
    "[Inicio ▲](#Indice)\n",
    "\n",
    "Pyomo es un software open source desarrollado para python para el modelamiento y resolución de modelos de optimización Lineasl,Cuadratica,No-lineal,Estocastica,entre otros.\n",
    "\n",
    "En este curso introductorio,utilizaremos la interfaz de JupyterLab para la resolución de problemas de optimización haciendo uso de la libreria Pyomo."
   ]
  },
  {
   "cell_type": "markdown",
   "id": "46697050",
   "metadata": {},
   "source": [
    "Si quieres conocer mas sobre la libreria Pyomo pueden acceder a su web http://www.pyomo.org/"
   ]
  },
  {
   "cell_type": "markdown",
   "id": "d13ff52e",
   "metadata": {},
   "source": [
    "Para instalar la libreria,debemos ejecutar la siguiente linea"
   ]
  },
  {
   "cell_type": "code",
   "execution_count": 11,
   "id": "32c81323",
   "metadata": {},
   "outputs": [
    {
     "name": "stdout",
     "output_type": "stream",
     "text": [
      "Note: you may need to restart the kernel to use updated packages.Requirement already satisfied: pyomo in c:\\users\\administrator\\appdata\\local\\programs\\python\\python310\\lib\\site-packages (6.6.2)\n",
      "Requirement already satisfied: ply in c:\\users\\administrator\\appdata\\local\\programs\\python\\python310\\lib\\site-packages (from pyomo) (3.11)\n",
      "\n"
     ]
    },
    {
     "name": "stderr",
     "output_type": "stream",
     "text": [
      "\n",
      "[notice] A new release of pip is available: 23.0.1 -> 23.3\n",
      "[notice] To update, run: C:\\Python310\\python.exe -m pip install --upgrade pip\n"
     ]
    }
   ],
   "source": [
    "pip install pyomo"
   ]
  },
  {
   "cell_type": "markdown",
   "id": "9d92f2c0",
   "metadata": {},
   "source": [
    "<a id='Modelamiento-con-Gurobi'></a>\n",
    "## Modelamiento con Gurobi 🚀\n",
    "\n",
    "[Inicio ▲](#Indice)\n",
    "\n",
    "Como ya vimos es posible modelar distintos procesos del mundo real bajo distintos paradigmas,en este caso buscamos optimizar ya sea maximizando o minimizando una función objetivo,la cual se encuentra sujeta a un conjunto de restricciones.Sin embargo la programación matemática generalmente se encuentra al inicio o a medio camino con la visión del negocio,esto implica que no nos centramos unicamente en modelar cualquier proceso,sino aquellos que sean críticos y/o haya una evidente oportunidad de mejora,la cual beneficie de forma directa a la empresa.\n",
    "\n",
    "Algunas de las áreas en donde existe una mayor aplicación y evidencias de los beneficios de esta técnica es en:\n",
    "\n",
    "* Manufactura\n",
    "* Logística\n",
    "* Distribución eléctrica\n",
    "* Finanzas\n",
    "\n",
    "### Pasos para crear un modelo de optimización\n",
    "\n",
    "- Para diseñar un modelo matemático que represente un sistema real,es necesario abstraer el sistema real mediante el modelamiento matemático.De esta forma primero es necesario definir un set de variables de decisión,las cuales deben ser representativas de aquellas decisiones que buscamos controlar en el sistema real.Sin embargo,estas pueden ser variables de tipo entero o continuas,lo cual podria influir posteriormente en el tiempo de resolución del modelo.\n",
    "\n",
    "- Junto a lo anterior debemos definir un set de restricciones,que capturen los límites globales que definen los valores que pueden tomar las variables de decisión\n",
    "\n",
    "- Finalmente debemos diseñar la función objetivo,la cual captura en gran parte el objetivo principal de la empresa.Esto implica definir si se quiere maximizar o minimizar el costo de la operación completa del proceso y como las variables de decisión interactuan entre ellas para la definición del objetivo.\n",
    "\n",
    "### Diseñando un primer modelo - Problema del carpintero\n",
    "\n",
    "Para este primer caso resolveremos un problema clásico correspondiente al problema del carpintero.El problema al que se enfrenta el carpintero,corresponde a cuantas mesas y sillas debe fabricar para maximizar sus ingresos.\n",
    "\n",
    "$max \\ \\ 5x_{1}+3x_{2}$\n",
    "\n",
    "$2x_{1}+x_{2}<=40$\n",
    "\n",
    "$x_{1}+2x_{2}<=50$\n",
    "\n",
    "$x_{i} \\geq 0$ \n",
    "\n",
    "De acuerdo al modelo planteado, los valores 5 y 3 que acompañan a la función objetivo corresponden a los ingresos netos por la cantidad de $mesas (x_{1}) \\ \\ y \\ \\ sillas (x_{2})$.Luego tenemos la primera restricción de mano de obra y la segunda de materiales.En la primera solo se cuentan con 40 horas laborales por semana y una mesa se demora 2 horas en construirse y las sillas demoran 1 hora.En cambio para la materia prima se cuenta con 50 unidades por semana,en donde las mesas requieren de 1 materia prima y las sillas de 2.\n",
    "\n",
    "A continuación se plantea el modelo de optimización mediante la libreria gurobi,asi que primero cargaremos la librería."
   ]
  },
  {
   "cell_type": "code",
   "execution_count": 1,
   "id": "fd5d3a7a",
   "metadata": {},
   "outputs": [],
   "source": [
    "from pyomo.environ import *"
   ]
  },
  {
   "cell_type": "markdown",
   "id": "39b46abc",
   "metadata": {},
   "source": [
    "Una vez cargada la librería,creamos un modelo genérico con la función **ConcreteModel()**.Luego en el modelo deberemos generar tanto las variables de decisión que usaremos en el modelo,asi como las constantes,restricciones y función objetivo."
   ]
  },
  {
   "cell_type": "code",
   "execution_count": 7,
   "id": "3d10bbe4",
   "metadata": {},
   "outputs": [],
   "source": [
    "modelo=ConcreteModel()"
   ]
  },
  {
   "cell_type": "markdown",
   "id": "39dfe924-166f-408e-a62e-d514f7b2d07b",
   "metadata": {},
   "source": [
    "Para crear las variables $x_{1}$ y $x_{2}$ dentro del modelo, usamos la función ***Var()*** y en esta vamos a especificar que las variables sean enteras  y no negativas,ademas especificamos que pueden tomar cualquier valor mayor a 0."
   ]
  },
  {
   "cell_type": "code",
   "execution_count": 8,
   "id": "722dce50-dd29-4c6b-8fea-ea9a53f53b86",
   "metadata": {},
   "outputs": [],
   "source": [
    "modelo.x1=Var(within=NonNegativeIntegers,bounds=(0,None))\n",
    "modelo.x2=Var(within=NonNegativeIntegers,bounds=(0,None))"
   ]
  },
  {
   "cell_type": "markdown",
   "id": "09868e7c-4c65-4521-83fc-558eb6ff059b",
   "metadata": {},
   "source": [
    "Ahora especificamos la función objetivo del modelo y las restricciones"
   ]
  },
  {
   "cell_type": "code",
   "execution_count": null,
   "id": "e9ec9a82-91ee-4eb9-b8b6-5a35858aa7f8",
   "metadata": {},
   "outputs": [],
   "source": [
    "modelo.objetivo = Objective(expr=5 * modelo.x1 + 3 * modelo.x2, sense=maximize)\n",
    "\n",
    "modelo.restriccion1 = Constraint(expr=2 * modelo.x1 + modelo.x2 <= 40)\n",
    "modelo.restriccion2 = Constraint(expr=modelo.x1 + 2 * modelo.x2 <= 50)\n"
   ]
  },
  {
   "cell_type": "markdown",
   "id": "ee65f5e1-c6e3-4c9d-8955-267c2f83f0f9",
   "metadata": {},
   "source": [
    "Una vez especificado el modelo,tener que definir el solver que utilizaremos.En este caso usamos **glpk**,por lo tanto le tenemos que pasar la ruta"
   ]
  },
  {
   "cell_type": "code",
   "execution_count": null,
   "id": "3cd8fdbe-9ac9-4d93-984e-2ec8fe1c2448",
   "metadata": {},
   "outputs": [],
   "source": [
    "glpsol_path = 'C:\\winglpk-4.65\\glpk-4.65\\w64\\glpsol.exe'\n",
    "solver = SolverFactory('glpk', executable=glpsol_path)  "
   ]
  },
  {
   "cell_type": "code",
   "execution_count": null,
   "id": "9e14c71c-6259-465d-9353-7c45fcfbba47",
   "metadata": {},
   "outputs": [],
   "source": [
    "Si definimos todo de forma correcta, ahora podemos solucionar el modelo."
   ]
  },
  {
   "cell_type": "code",
   "execution_count": null,
   "id": "42b6b4ec-5034-4a82-adbc-60f4f24c2690",
   "metadata": {},
   "outputs": [],
   "source": [
    "resultado = solver.solve(modelo)"
   ]
  },
  {
   "cell_type": "markdown",
   "id": "c16ddbc4-4c96-40b0-be19-a82d54c76f68",
   "metadata": {},
   "source": [
    "Una vez resulto el modelo,podemos verificar los valores de las variables del modelo junto al valor de la funcion objetivo."
   ]
  },
  {
   "cell_type": "code",
   "execution_count": 10,
   "id": "668973f5-5b3e-4eb7-b221-fe23bc3f0c21",
   "metadata": {},
   "outputs": [
    {
     "name": "stdout",
     "output_type": "stream",
     "text": [
      "\n",
      "Resultados:\n",
      "Valor óptimo de la función objetivo: 110.0\n",
      "x1 = 10.0\n",
      "x2 = 20.0\n"
     ]
    }
   ],
   "source": [
    "# Mostrar valor de funcion objetivo y variables\n",
    "#modelo.pprint()\n",
    "print(\"\\nResultados:\")\n",
    "print(\"Valor óptimo de la función objetivo:\", value(modelo.objetivo))\n",
    "print(\"x1 =\", value(modelo.x1))\n",
    "print(\"x2 =\", value(modelo.x2))"
   ]
  },
  {
   "cell_type": "markdown",
   "id": "05c618eb",
   "metadata": {},
   "source": [
    "Podemos ver que los valores de las variables son $x_{1}=10$ y $x_{2}=20$.De esta forma si reemplazamos los valores en la restricciones veremos que ambas se cumplen y en la funcion objetivo obtenemos el maximo de **110**"
   ]
  },
  {
   "cell_type": "markdown",
   "id": "594a4f5d",
   "metadata": {},
   "source": [
    "- Restriccion 1     $\\rightarrow 2*(10)+20 \\leq 40$ \n",
    "- Restriccion 2     $\\rightarrow 10+2*(20) \\leq 50$\n",
    "- Funcion Objetivo  $\\rightarrow 5x_{1}+3x_{2}=5*10+3*20=50+60=110 $"
   ]
  },
  {
   "cell_type": "markdown",
   "id": "02fe675e",
   "metadata": {},
   "source": [
    "## Problema de transporte\n",
    "\n",
    "Otro de los problemas de bastante interés y ampliamente desarrollado en la literatura corresponde a los problemas de transporte,específicamente estamos considerando problemas en donde las variables de decisión toman valores enteros.A pesar de que es posible utilizar el algoritmo simplex para su resolución,tambien es posible la utilización de otros algoritmos mas eficientes para su resolución.\n",
    "\n",
    "Un caso de los problemas de transporte corresponde al suministro que deben realizar $m$ almacenes a $n$ destinos de un determinado producto.Luego la capacidad de la oferta de cada uno de los orígenes $i=1,...,m.$,mientas que la demanda de cada destino $j=1,...,n$ es $b_{j}$.Luego el costo de enviar una unidad de producto del origen $i$ al destino $j$ corresponde a $c_{i,j}$.Asi buscamos determinar cual es la cantidad de unidades de producto que se deben enviar desde los origenes $i$ a los destinos $j$,pero minimizando el costo total de envío y ademas asegurando la demanda en los destinos y no excediendo la capacidad de los origenes.\n",
    "\n",
    "De esta forma podemos formalizar el problema de la siguiente forma:\n",
    "\n",
    "$min \\sum_{i=1}^m \\sum_{j=1}^n c_{i,j} x_{i,j}$\n",
    "\n",
    "sujeto a las siguientes restricciones\n",
    "\n",
    "$\\sum_{j=1}^n x_{i,j} \\leq a_{i} \\ \\ \\ \\ i=1,2,...,m$\n",
    "\n",
    "$\\sum_{i=1}^m x_{i,j} \\geq b_{j} \\ \\ \\ \\ j=1,2,...,n$\n",
    "\n",
    "$x_{i} \\geq 0 \\ \\ \\ \\ i=1,2,...,m \\ \\ \\ \\ j=1,2,...,n $\n",
    "\n"
   ]
  },
  {
   "cell_type": "markdown",
   "id": "3009267e",
   "metadata": {},
   "source": [
    "Ahora consideremos un caso particular del problema de transporte, en donde 3 almacenes que deben abastecer 6 destinos de un producto.En donde la oferta de cada almacen es 2.045,2.234 y 1.800 y la demanda a suplir por cada destino es de 1.523,1.768, 850 y 1.918 Luego tenemos que los costos de enviar productos desde cada almacen a cada origen se muestran en la siguiente tabla.\n",
    "\n",
    "<table ><tr><th> Costo de envio<th><th> Valor <tr><tr>\n",
    "<tr><td> $c_{1,1}$  <td><td> 10.200     <td><tr>\n",
    "<tr><td> $c_{1,2}$  <td><td> 13.450 <td><tr>\n",
    "<tr><td> $c_{1,3}$  <td><td> 11.890  <td><tr>\n",
    "<tr><td> $c_{1,4}$  <td><td> 19.324        <td><tr>\n",
    "<tr><td> $c_{2,1}$  <td><td> 15.912      <td><tr>\n",
    "<tr><td> $c_{2,2}$  <td><td> 15.340  <td><tr>\n",
    "<tr><td> $c_{2,3}$  <td><td> 12.670  <td><tr>\n",
    "<tr><td> $c_{2,4}$  <td><td> 11.843       <td><tr>\n",
    "<tr><td> $c_{3,1}$  <td><td> 16.312      <td><tr>\n",
    "<tr><td> $c_{3,2}$  <td><td> 16.917  <td><tr>\n",
    "<tr><td> $c_{3,3}$  <td><td> 13.218  <td><tr>\n",
    "<tr><td> $c_{3,4}$  <td><td> 14.347        <td><tr><table>"
   ]
  },
  {
   "cell_type": "markdown",
   "id": "2f13bac3",
   "metadata": {},
   "source": [
    "Finalmente se desea determinar las cantidades a enviar desde cada almacen a cada destino."
   ]
  },
  {
   "cell_type": "code",
   "execution_count": 19,
   "id": "26f0db67",
   "metadata": {},
   "outputs": [],
   "source": [
    "from gurobipy import *\n",
    "\n",
    "m=Model()\n",
    "x_11=m.addVar(vtype=GRB.CONTINUOUS,name=\"x_11\")\n",
    "x_12=m.addVar(vtype=GRB.CONTINUOUS,name=\"x_12\")\n",
    "x_13=m.addVar(vtype=GRB.CONTINUOUS,name=\"x_13\")\n",
    "x_14=m.addVar(vtype=GRB.CONTINUOUS,name=\"x_14\")\n",
    "x_21=m.addVar(vtype=GRB.CONTINUOUS,name=\"x_21\")\n",
    "x_22=m.addVar(vtype=GRB.CONTINUOUS,name=\"x_22\")\n",
    "x_23=m.addVar(vtype=GRB.CONTINUOUS,name=\"x_23\")\n",
    "x_24=m.addVar(vtype=GRB.CONTINUOUS,name=\"x_24\")\n",
    "x_31=m.addVar(vtype=GRB.CONTINUOUS,name=\"x_31\")\n",
    "x_32=m.addVar(vtype=GRB.CONTINUOUS,name=\"x_32\")\n",
    "x_33=m.addVar(vtype=GRB.CONTINUOUS,name=\"x_33\")\n",
    "x_34=m.addVar(vtype=GRB.CONTINUOUS,name=\"x_34\")\n",
    "\n",
    "c_11=10200\n",
    "c_12=13450\n",
    "c_13=11890\n",
    "c_14=19324\n",
    "c_21=15912\n",
    "c_22=15340\n",
    "c_23=12670\n",
    "c_24=11843\n",
    "c_31=16312\n",
    "c_32=16917\n",
    "c_33=13218\n",
    "c_34=14347\n",
    "6079\n",
    "c1=m.addConstr(x_11+x_12+x_13+x_14<=2045)\n",
    "c2=m.addConstr(x_21+x_22+x_23+x_24<=2234)\n",
    "c3=m.addConstr(x_31+x_32+x_33+x_34<=1800)\n",
    "\n",
    "c1=m.addConstr(x_11+x_21+x_31>=1523)\n",
    "c2=m.addConstr(x_12+x_22+x_32>=1768)\n",
    "c3=m.addConstr(x_13+x_23+x_33>=850)\n",
    "c3=m.addConstr(x_14+x_24+x_34>=1918)\n",
    "\n",
    "\n",
    "m.setObjective(c_11*x_11+c_12*x_12+c_13*x_13+c_14*x_14+c_21*x_21+c_22*x_22+c_23*x_23+c_24*x_24\n",
    "               +c_31*x_31+c_32*x_32+c_33*x_33+c_34*x_34,GRB.MAXIMIZE)"
   ]
  },
  {
   "cell_type": "code",
   "execution_count": 20,
   "id": "8227c321",
   "metadata": {},
   "outputs": [
    {
     "name": "stdout",
     "output_type": "stream",
     "text": [
      "Gurobi Optimizer version 9.5.2 build v9.5.2rc0 (win64)\n",
      "Thread count: 4 physical cores, 8 logical processors, using up to 8 threads\n",
      "Optimize a model with 7 rows, 12 columns and 24 nonzeros\n",
      "Model fingerprint: 0x025b9e56\n",
      "Coefficient statistics:\n",
      "  Matrix range     [1e+00, 1e+00]\n",
      "  Objective range  [1e+04, 2e+04]\n",
      "  Bounds range     [0e+00, 0e+00]\n",
      "  RHS range        [9e+02, 2e+03]\n",
      "Presolve time: 0.02s\n",
      "Presolved: 7 rows, 12 columns, 24 nonzeros\n",
      "\n",
      "Iteration    Objective       Primal Inf.    Dual Inf.      Time\n",
      "       0    1.7142300e+35   1.200000e+31   1.714230e+05      0s\n",
      "       6    1.0229672e+08   0.000000e+00   0.000000e+00      0s\n",
      "\n",
      "Solved in 6 iterations and 0.03 seconds (0.00 work units)\n",
      "Optimal objective  1.022967200e+08\n"
     ]
    }
   ],
   "source": [
    "m.optimize()"
   ]
  },
  {
   "cell_type": "code",
   "execution_count": 21,
   "id": "c3b3d1cb",
   "metadata": {},
   "outputs": [
    {
     "data": {
      "text/plain": [
       "[<gurobi.Var x_11 (value 0.0)>,\n",
       " <gurobi.Var x_12 (value 0.0)>,\n",
       " <gurobi.Var x_13 (value 107.0)>,\n",
       " <gurobi.Var x_14 (value 1938.0)>,\n",
       " <gurobi.Var x_21 (value 1523.0)>,\n",
       " <gurobi.Var x_22 (value 0.0)>,\n",
       " <gurobi.Var x_23 (value 711.0)>,\n",
       " <gurobi.Var x_24 (value 0.0)>,\n",
       " <gurobi.Var x_31 (value 0.0)>,\n",
       " <gurobi.Var x_32 (value 1768.0)>,\n",
       " <gurobi.Var x_33 (value 32.0)>,\n",
       " <gurobi.Var x_34 (value 0.0)>]"
      ]
     },
     "execution_count": 21,
     "metadata": {},
     "output_type": "execute_result"
    }
   ],
   "source": [
    "m.getVars()"
   ]
  },
  {
   "cell_type": "code",
   "execution_count": 25,
   "id": "ee508efe",
   "metadata": {},
   "outputs": [
    {
     "name": "stdout",
     "output_type": "stream",
     "text": [
      "$102,296,720\n"
     ]
    }
   ],
   "source": [
    "print(\"${:0,.0f}\".format(m.objval))"
   ]
  },
  {
   "cell_type": "markdown",
   "id": "1ff05d72",
   "metadata": {},
   "source": [
    "Como podemos ver en los resultados del problema de transporte,el modelo es capaz de asignar la cantidad que debe satisfacer la demanda de cada destino,pero teniendo en cuenta que se debe minimizar el costo total de envío.Asi finalmente podemos ver que el costo total de envío es de **102.296.720** ,el que puede parecer un costo alto,pero en realidad es la mejor combinación de envios que a determinado el modelo."
   ]
  },
  {
   "cell_type": "markdown",
   "id": "f5157a49",
   "metadata": {},
   "source": [
    "## Problema de la mochila (knapsack problem) 🎒\n",
    "\n",
    "El problema de la mochila es un caso particular,pero que a su vez comprende una familia de subproblemas.En este contexto estamos hablando de problemas de optimización combinatoria,sin embargo en esta sección solo consideraremos una versión basica del problema de la mochila,ya que este tipo de problemas se consideran como algoritmos NP-hard,lo cual implica que el tiempo de resolución crece de forma exponencial.En versiones posteriores de este curso consideraremos otras formulaciones de este tipo de problemas.\n",
    "\n",
    "Consideremos el caso de una persona que desea ir de excursión y para tal caso,debe llevar una mochila con ciertos objetos,sin embargo hay 5 objetos que desea llevar los cuales exceden el peso que admite la mochila de 60 kg.Consideremos la siguiente tabla con los articulos,su peso y utilidad relativa.\n",
    "\n",
    "<table ><tr><th> Articulo $x_{j}$<th><th> 1 <th><th> 2 <th><th> 3 <th><th> 4 <th><th> 5 <tr><tr>\n",
    "<tr><td> Peso $w_{j}$ <td><td> 42     <td><td> 23     <td><td> 21     <td><td> 15     <td><td> 7     <td><tr>\n",
    "<tr><td> Valor $p_{j}$  <td><td> 100  <td><td> 60 <td><td> 70 <td><td> 15 <td><td> 15    <td><tr><table>\n",
    "\n",
    "Asi podemos formalizar el problema de la mochila de acuerdo a lo siguiente\n",
    "    \n",
    "$max \\sum_{j=1}^n p_{j} x_{j}$\n",
    "\n",
    "sujeto a \n",
    "\n",
    "$\\sum_{j=1}^n w_{j}x_{j} \\leq c \\ \\ \\ \\ i=1,2,...,m$\n",
    "\n",
    "$x_{i} \\in \\{0,1\\}$"
   ]
  },
  {
   "cell_type": "markdown",
   "id": "774a2d89",
   "metadata": {},
   "source": [
    "De acuerdo al formulamiento anterior,ahora podemos modelar el problema con la librería gurobi para su resolución numérica."
   ]
  },
  {
   "cell_type": "code",
   "execution_count": 67,
   "id": "1e804174",
   "metadata": {},
   "outputs": [],
   "source": [
    "from gurobipy import *\n",
    "\n",
    "m=Model()\n",
    "x_1=m.addVar(vtype=GRB.BINARY,name=\"x_1\")\n",
    "x_2=m.addVar(vtype=GRB.BINARY,name=\"x_2\")\n",
    "x_3=m.addVar(vtype=GRB.BINARY,name=\"x_3\")\n",
    "x_4=m.addVar(vtype=GRB.BINARY,name=\"x_4\")\n",
    "x_5=m.addVar(vtype=GRB.BINARY,name=\"x_5\")\n",
    "\n",
    "p_1=100\n",
    "p_2=60\n",
    "p_3=70\n",
    "p_4=15\n",
    "p_5=15\n",
    "\n",
    "w_1=42\n",
    "w_2=23\n",
    "w_3=21\n",
    "w_4=15\n",
    "w_5=7\n",
    "\n",
    "c1=m.addConstr(w_1*x_1+w_2*x_2+w_3*x_3+w_4*x_4+w_5*x_5<=60)\n",
    "\n",
    "\n",
    "m.setObjective(p_1*x_1+p_2*x_2+p_3*x_3+p_4*x_4+p_5*x_5,GRB.MAXIMIZE)"
   ]
  },
  {
   "cell_type": "code",
   "execution_count": 68,
   "id": "eb8a0a9b",
   "metadata": {},
   "outputs": [
    {
     "name": "stdout",
     "output_type": "stream",
     "text": [
      "Gurobi Optimizer version 9.5.2 build v9.5.2rc0 (win64)\n",
      "Thread count: 4 physical cores, 8 logical processors, using up to 8 threads\n",
      "Optimize a model with 1 rows, 5 columns and 5 nonzeros\n",
      "Model fingerprint: 0xe572d482\n",
      "Variable types: 0 continuous, 5 integer (5 binary)\n",
      "Coefficient statistics:\n",
      "  Matrix range     [7e+00, 4e+01]\n",
      "  Objective range  [2e+01, 1e+02]\n",
      "  Bounds range     [1e+00, 1e+00]\n",
      "  RHS range        [6e+01, 6e+01]\n",
      "Found heuristic solution: objective 115.0000000\n",
      "Presolve removed 1 rows and 5 columns\n",
      "Presolve time: 0.00s\n",
      "Presolve: All rows and columns removed\n",
      "\n",
      "Explored 0 nodes (0 simplex iterations) in 0.02 seconds (0.00 work units)\n",
      "Thread count was 1 (of 8 available processors)\n",
      "\n",
      "Solution count 2: 145 115 \n",
      "\n",
      "Optimal solution found (tolerance 1.00e-04)\n",
      "Best objective 1.450000000000e+02, best bound 1.450000000000e+02, gap 0.0000%\n"
     ]
    }
   ],
   "source": [
    "m.optimize()"
   ]
  },
  {
   "cell_type": "code",
   "execution_count": 54,
   "id": "a2b7baa8",
   "metadata": {},
   "outputs": [
    {
     "data": {
      "text/plain": [
       "[<gurobi.Var x_1 (value 0.0)>,\n",
       " <gurobi.Var x_2 (value 1.0)>,\n",
       " <gurobi.Var x_3 (value 1.0)>,\n",
       " <gurobi.Var x_4 (value 0.0)>,\n",
       " <gurobi.Var x_5 (value 1.0)>]"
      ]
     },
     "execution_count": 54,
     "metadata": {},
     "output_type": "execute_result"
    }
   ],
   "source": [
    "m.getVars()"
   ]
  },
  {
   "cell_type": "code",
   "execution_count": 5,
   "id": "1465dada",
   "metadata": {},
   "outputs": [
    {
     "data": {
      "text/plain": [
       "145.0"
      ]
     },
     "execution_count": 5,
     "metadata": {},
     "output_type": "execute_result"
    }
   ],
   "source": [
    "m.objval"
   ]
  },
  {
   "cell_type": "markdown",
   "id": "566471b4",
   "metadata": {},
   "source": [
    "De acuerdo a los resultados obtenidos por el optimizador,se obtuvieron 2 soluciones factibles 1 de ellas es mediante una heuristica con un valor total de 115,sin embargo el valor relativo de la mochila se maximiza cuando se elige el 2,3 y 5 por un total de 145.\n",
    "\n",
    "Asi el peso completo de la mochila es de 1*60+1*70+1*15=145"
   ]
  },
  {
   "cell_type": "markdown",
   "id": "2803ef9d",
   "metadata": {},
   "source": [
    "Y hemos llegado al final de este curso introductorio a la optimización con la libreria gurobi.En este curso nos centramos en la importancia del modelamiento matemático y como llevar un modelo matemático a la resolución numérica mediante la librería gurobi,\n",
    "como se menciona en el curso,hay varios tópicos relacionados al modelamiento matemático y la optimización que no se tocan en este curso,los cuales veremos en próximas ediciones.\n",
    "\n",
    "Ante cualquier duda o comentario me puedes escribir a juan.venegas@uach.cl o j.venegasgutierrez@gmail.com\n",
    "\n",
    "Saludos 🧭\n"
   ]
  }
 ],
 "metadata": {
  "kernelspec": {
   "display_name": "Python 3 (ipykernel)",
   "language": "python",
   "name": "python3"
  },
  "language_info": {
   "codemirror_mode": {
    "name": "ipython",
    "version": 3
   },
   "file_extension": ".py",
   "mimetype": "text/x-python",
   "name": "python",
   "nbconvert_exporter": "python",
   "pygments_lexer": "ipython3",
   "version": "3.10.7"
  }
 },
 "nbformat": 4,
 "nbformat_minor": 5
}
