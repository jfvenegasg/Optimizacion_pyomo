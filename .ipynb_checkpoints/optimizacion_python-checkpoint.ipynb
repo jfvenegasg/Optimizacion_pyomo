{
 "cells": [
  {
   "cell_type": "markdown",
   "id": "21c59d58",
   "metadata": {},
   "source": [
    "# Introducción a optimización en python"
   ]
  },
  {
   "cell_type": "markdown",
   "id": "b533f4f4",
   "metadata": {},
   "source": [
    "<center>\n",
    "<img src=\"optimizacion.png\">\n"
   ]
  },
  {
   "cell_type": "markdown",
   "id": "21fc9651",
   "metadata": {},
   "source": [
    "## Objetivos\n",
    "\n",
    "* Librería Gurobi\n",
    "* Modelamiento matematico\n",
    "* Modelación con Gurobi"
   ]
  },
  {
   "cell_type": "markdown",
   "id": "5caaa5fe",
   "metadata": {},
   "source": [
    "<a id='Indice'></a>\n",
    "## Indice\n",
    "[Inicio ▲](#Indice)\n",
    "\n",
    "1. [Modelamiento Matematico](#Modelamiento-Matematico)\n",
    "1. [Programación Lineal](#Programación-Lineal)\n",
    "1. [Programación Entera](#Programación-Entera)\n",
    "1. [Libreria Gurobi](#Libreria-Gurobi)\n",
    "1. [Modelamiento con Gurobi](#Modelamiento-con-Gurobi)"
   ]
  },
  {
   "cell_type": "markdown",
   "id": "834c3143",
   "metadata": {},
   "source": [
    "<a id='Modelamiento-Matematico'></a>\n",
    "## Modelamiento Matematico 🎨\n",
    "\n",
    "[Inicio ▲](#Indice)\n",
    "\n",
    "El modelamiento matemático es una estructura cientifica que nos permite mediante una formulación,expresar las relaciones que pueden existir entre un conjunto de eventos,parametros,entidades o entre sistemas.En este sentido generalmente buscamos modelar las relaciones existentes entre fenomenos reales tangibles o posibles intangibles.Es asi que para distintos tipos de fenomenos algunos paradigmas permiten explicar o abstraer de mejor forma las situaciones de analisis.Sin embargo hay algunas clasificaciones iniciales que podemos hacer.\n",
    "\n",
    "### Modelo según el tipo de representación\n",
    "\n",
    "Cuando buscamos modelar matematicamente una situación existen 2 perspectivas fuertes,las que nos permiten distinguir de distinta forma aspectos de la misma naturaleza de la situación o el objeto de analisis y estos son:\n",
    "\n",
    "**Modelos cualitativos**:Estos permiten representar mediante diagramas o graficos,las relaciones entre los sistemas de interes.Asi estos solo buscan describir las direcciones generales o particulares del sistema.\n",
    "\n",
    "**Modelos cuantitativos**:En cambio estos buscan mediante números,representar las relaciones y parametros del o los sistemas,permitiendo la integración de los mecanismos de acción mediante formulas o algoritmos de menor o mayor complejidad.\n",
    "\n",
    "Especificamente en este curso introductorio a optimización,abarcaremos la programación lineal la cual corresponde a un caso particular de la programación diferenciable.\n",
    "\n",
    "<a id='Programación-Lineal'></a>\n",
    "## Programación Lineal 🧮\n",
    "\n",
    "[Inicio ▲](#Indice)\n",
    "\n",
    "Cuando hablamos de programación lineal,estamos considerando el campo que se dedica a maximizar o minimizar una función lineal,a la cual llamamos función objetivo.En este contexto,las variables que estan presentes en esta función se encuentran sujetas a un conjunto de restriciones establecidas en un sistema de ecuaciones.\n",
    "\n",
    "Un modelo tipico de optimización lineal es como el que consideramos a continuación.\n",
    "\n",
    "$max \\{c^Tx :x \\in \\Re \\wedge Ax \\leq b \\wedge x \\geq 0\\}  $\n",
    "\n",
    "Pero tambien podemos desarrollar en su formulación estandar un caso particular.\n",
    "\n",
    "#### Función objetivo\n",
    "$f(x_{1},x_{2})=c_{1}x_{1}+c_{2}x_{2}$\n",
    "\n",
    "#### Restricciones\n",
    "\n",
    "$a_{11}x_{1}+a_{12}x_{2} \\leq b_{1}$\n",
    "\n",
    "$a_{21}x_{1}+a_{22}x_{2} \\leq b_{2}$\n",
    "\n",
    "$a_{31}x_{1}+a_{32}x_{2} \\leq b_{3}$\n",
    "\n",
    "#### Restricciones de no negatividad\n",
    "\n",
    "$x_{1} \\geq 0$\n",
    "\n",
    "$x_{2} \\geq 0$\n",
    "\n",
    "Para la forma estandar de un modelo de programación lineal,podemos nuevamente considerar\n",
    "\n",
    "Generalmente el método para la resolución de problemas de programación lineal es el **método simplex** desarrollado por George Dantzig en 1947,el cual asegura encontrar el optimo global,sin embargo en algunos casos el algoritmo no presenta buenos resultados.Sin embargo existen otros métodos para la resolución de problemas de optimización lineal como el **algoritmo de cambio de base**,**algoritmo de punto interior**,**algoritmo elipsoide**,entre otros los que permiten asegurar optimos globales pero en mejores tiempos de resolución.\n",
    "\n",
    "<a id='Programación-Entera'></a>\n",
    "## Programación-Entera 🎒\n",
    "\n",
    "[Inicio ▲](#Indice)\n",
    "\n",
    "A diferencia de la programación lineal,en este caso si todas las variables desconocidas son enteras,entonces consideramos el problema como de programación entera.Cabe destacar que en este caso los valores de las variables pueden solo tomar valores enteros.Sin embargo,si las variables pueden solo tomar los valores 0 y 1,estamos frente a una subcategoria de la programación entera,llamada programación binaria.\n",
    "\n",
    "Algunos de los métodos mas utilizadas para la resolución de este tipo de modelos corresponden a los algoritmos **Branch and bound**,**Branch and cut**,**planos de corte**,entre otros.\n",
    "\n",
    "A continuación,veremos el formulamiento de un problema clasico de programación entera,especificamente de programacion binaria.\n",
    "\n",
    "### Problema de la mochila simple (Knapsack Problem)\n",
    "\n",
    "Si disponemos de $n$ objetos para llevar en una mochila.Cada uno de los objetos,tiene un peso $p_{j}$ y tiene una utilidad relativa para el viaje de $c_{j}$.Finalmente consideramos que la mochila solo admite un peso máximo de $b$.\n",
    "\n",
    "En este problema buscamos tomar la decisión de cuales son aquellos objetos que debemos seleccionar para llevar en la mochila,de manera tal que maximicemos la utilidad total.\n",
    "\n",
    "Si consideramos que cada objeto que podemos llevar se corresponde con una variable que puede ser asignada o no,entonces podemos definir lo siguiente:\n",
    "\n",
    "$\\begin{equation} x_{j} = \\left\\lbrace \\begin{array}{ll} 1 & \\text{si el objeto j se selecciona }  \\newline 0 & \\text{en otro caso }   \\end{array} \\right. \\end{equation}$\n",
    "\n",
    "Luego podemos definir 2 restricciones para el problema,primero el limite de peso de la mochila de acuerdo a los pesos $p_j$\n",
    "\n",
    "$\\sum_{j=1}^n p_{j}x_{j} \\leq b$\n",
    "\n",
    "y luego la condición para que las variables sean binarias.\n",
    "\n",
    "$x_{j} \\in \\{0,1\\} \\ \\ \\  \\ \\ \\ \\forall \\ \\ \\ j=1,...,n$\n",
    "\n",
    "Finalmente podemos definir la función objetivo que maximiza la utilidad relativa total\n",
    "\n",
    "$max \\sum_{j=1}^n c_{j}x_{j}$\n",
    "\n",
    "### Problema de la mochila de multiple elección \n",
    "\n",
    "A diferencia del problema anterior,en el problema de la mochila de múltiple elección los objetos se encuentran subdivididos en $k$ clases,en donde solo podemos tomar un item de cada una de las clases.De esta forma podemos formalizar el problema como\n",
    "\n",
    "$max \\sum_{i=1}^k \\sum_{j=1}^N v_{i,j}x_{i,j}$\n",
    "\n",
    "$\\sum_{i=1}^k \\sum_{j=1}^N w_{i,j} x_{i,j}$\n",
    "\n",
    "$\\sum_{j=1}^N x_{i,j}=1 \\ \\ \\ \\ \\forall \\ \\ 1\\leq i \\leq k$\n",
    "\n",
    "$x_{i,j} \\in \\{0,1\\} \\ \\ \\ \\forall \\ \\  1 \\leq i  \\leq k ,\\ j \\in N$\n",
    "\n",
    "<a id='Libreria-Gurobi'></a>\n",
    "## Libreria Gurobi 🎨\n",
    "\n",
    "[Inicio ▲](#Indice)\n",
    "\n",
    "Guu... que??😅\n",
    "\n",
    "Gurobi es un software comercial para la resolución de problemas de optimización Lineal,Cuadratica,Lineal Entera,entre otros modelos.La libreria fue desarrollada por parte del equipo que desarrollo CPLEX(otro software de optimización).\n",
    "\n",
    "Uno de los aspectos importantes de Gurobi,es que soporta una amplia variedad de lenguajes como C++,Java,Python,R,MATLAB,AMPL,entre otros.Ademas es posible realizar computo en la nube.\n",
    "\n",
    "En este curso introductorio,utilizaremos la interfaz de JupyterLab para la resolución de problemas de optimización haciendo uso de la libreria Gurobi.\n",
    "\n",
    "### Gurobipy\n",
    "\n",
    "Gurobipy es un modulo que permite utilizar la API con todas las caracteristicas de Gurobi."
   ]
  },
  {
   "cell_type": "markdown",
   "id": "32dc8905",
   "metadata": {},
   "source": [
    "Para hacer uso de esta primero deberemos descargar el instalador desde la web de Gurobi https://www.gurobi.com/downloads/"
   ]
  },
  {
   "cell_type": "markdown",
   "id": "07fd15e4",
   "metadata": {},
   "source": [
    "y luego deberemos instalar el modulo desde la terminal"
   ]
  },
  {
   "cell_type": "code",
   "execution_count": null,
   "id": "884168f0",
   "metadata": {},
   "outputs": [],
   "source": [
    "pip install gurobipy"
   ]
  },
  {
   "cell_type": "markdown",
   "id": "e3f83b4f",
   "metadata": {},
   "source": [
    "Sin embargo como ultimo paso y no menos importante,debemos seleccionar el tipo de licencia que queremos ocupar,la cual puede ser: (1) Licencia de evaluación comercial,(2) Licencia Academica,(3) Licencia de curso on-line y para (4) prueba en la nube.\n",
    "\n",
    "Ya teniendo todo listo,en la próxima sección utilizaremos la libreria gurobi para modelar y resolver algunos problemas clasicos de optimización."
   ]
  },
  {
   "cell_type": "markdown",
   "id": "cbd9ec23",
   "metadata": {},
   "source": [
    "<a id='Modelamiento-con-Gurobi'></a>\n",
    "## Modelamiento con Gurobi 🎨\n",
    "\n",
    "[Inicio ▲](#Indice)\n",
    "\n",
    "Como ya vimos es posible modelar distintos procesos del mundo real bajo distintos paradigmas,en este caso buscamos optimizar ya sea maximizando o minimizando una función objetivo,la cual se encuentra sujeta a un conjunto de restricciones.Sin embargo la programación matematica generalmente se encuentra al inicio o a medio camino con la visión del negocio,esto implica que no nos centramos unicamente en modelar cualquier proceso,sino aquellos que sean criticos y/o haya una evidente oportunidad de mejora,la cual beneficie de forma directa a la empresa.\n",
    "\n",
    "Algunas de las áreas en donde existe una mayor aplicación y evidencias de los beneficios de esta tecnica es en:\n",
    "\n",
    "* Manufactura\n",
    "* Logistica\n",
    "* Distribución electrica\n",
    "* Finanzas\n",
    "\n",
    "### Pasos para crear un modelo de optimización\n",
    "\n",
    "- Para diseñar un modelo matematico que represente un sistema real,es necesario abstraer el sistema real mediante el modelamiento matematico.De esta forma primero es necesario definir un set de variables de decisión,las cuales deben ser representativas de aquellas decisiones que buscamos controlar en el sistema real.Sin embargo,estas pueden ser variables de tipo entero o continuas,lo cual podria influir posteriormente en el tiempo de resolución del modelo.\n",
    "\n",
    "- Junto a lo anterior debemos definir un set de restricciones,que capturen los limites globales que definen los valores que pueden tomar las variables de decisión\n",
    "\n",
    "- Finalmente debemos diseñar la función objetivo,la cual captura en gran parte el objetivo principal de la empresa.Esto implica definir si se quiere maximizar o minimizar el costo de la operación completa del proceso y como las variables de decisión interactuan entre ellas para la definición del objetivo.\n",
    "\n",
    "### Diseñando un modelo - Problema del carpintero\n",
    "\n",
    "Para este primer caso resolveremos un problema clasico correspondiente al problema del carpintero.El problema al que se enfrenta el carpintero,corresponde a cuantas mesas y sillas debe fabricar para maximizar sus ingresos.\n",
    "\n",
    "$max \\ \\ 5x_{1}+3x_{2}$\n",
    "\n",
    "$2x_{1}+x_{2}<=40$\n",
    "\n",
    "$x_{1}+2x_{2}<=50$\n",
    "\n",
    "$x_{i} \\geq 0$ \n",
    "\n",
    "De acuerdo al modelo planteado, los valores 5 y 3 que acompañan a la función objetivo corresponden a los ingresos netos por la cantidad de $mesas \\ \\ (x_{1}) \\ \\ y \\ \\ sillas (x_{2})$.Luego tenemos la primera restriccion de mano de obra y la segunda de materiales.En la primera solo se cuentan con 40 horas laborales por semana y una mesa se demora 2 horas en construirse y las sillas demoran 1 hora.En cambio para la materia prima se cuenta con 50 unidades por semana,en donde las mesas requieren de 1 materia prima y las sillas de 2."
   ]
  },
  {
   "cell_type": "code",
   "execution_count": 33,
   "id": "e24e5246",
   "metadata": {},
   "outputs": [],
   "source": [
    "from gurobipy import *\n",
    "\n",
    "m=Model()\n",
    "x_1=m.addVar(vtype=GRB.CONTINUOUS,name=\"x_1\")\n",
    "x_2=m.addVar(vtype=GRB.CONTINUOUS,name=\"x_2\")\n",
    "\n",
    "c_1=5\n",
    "c_2=3"
   ]
  },
  {
   "cell_type": "code",
   "execution_count": 34,
   "id": "380ab2e0",
   "metadata": {},
   "outputs": [
    {
     "name": "stdout",
     "output_type": "stream",
     "text": [
      "Gurobi Optimizer version 9.5.2 build v9.5.2rc0 (win64)\n",
      "Thread count: 4 physical cores, 8 logical processors, using up to 8 threads\n",
      "Optimize a model with 2 rows, 2 columns and 4 nonzeros\n",
      "Model fingerprint: 0x15d58d31\n",
      "Coefficient statistics:\n",
      "  Matrix range     [1e+00, 2e+00]\n",
      "  Objective range  [3e+00, 5e+00]\n",
      "  Bounds range     [0e+00, 0e+00]\n",
      "  RHS range        [4e+01, 5e+01]\n",
      "Presolve time: 0.01s\n",
      "Presolved: 2 rows, 2 columns, 4 nonzeros\n",
      "\n",
      "Iteration    Objective       Primal Inf.    Dual Inf.      Time\n",
      "       0    8.0000000e+30   3.000000e+30   8.000000e+00      0s\n",
      "       2    1.1000000e+02   0.000000e+00   0.000000e+00      0s\n",
      "\n",
      "Solved in 2 iterations and 0.03 seconds (0.00 work units)\n",
      "Optimal objective  1.100000000e+02\n"
     ]
    }
   ],
   "source": [
    "    m.setObjective(c_1*x_1+c_2*x_2,GRB.MAXIMIZE)\n",
    "\n",
    "    c1=m.addConstr(2*x_1+x_2<=40)\n",
    "    c2=m.addConstr(x_1+2*x_2<=50)\n",
    "    \n",
    "    m.optimize()"
   ]
  },
  {
   "cell_type": "code",
   "execution_count": 29,
   "id": "4da8d589",
   "metadata": {},
   "outputs": [
    {
     "data": {
      "text/plain": [
       "[<gurobi.Var x_1 (value 1.0)>, <gurobi.Var x_2 (value 1.0)>]"
      ]
     },
     "execution_count": 29,
     "metadata": {},
     "output_type": "execute_result"
    }
   ],
   "source": [
    "m.getVars()"
   ]
  },
  {
   "cell_type": "code",
   "execution_count": 35,
   "id": "c6d8286e",
   "metadata": {},
   "outputs": [
    {
     "data": {
      "text/plain": [
       "110.0"
      ]
     },
     "execution_count": 35,
     "metadata": {},
     "output_type": "execute_result"
    }
   ],
   "source": [
    "m.objval"
   ]
  },
  {
   "cell_type": "markdown",
   "id": "21d8874d",
   "metadata": {},
   "source": [
    "## Problema de transporte"
   ]
  },
  {
   "cell_type": "markdown",
   "id": "a93bb340",
   "metadata": {},
   "source": [
    "## Problema de la mochila"
   ]
  }
 ],
 "metadata": {
  "kernelspec": {
   "display_name": "Python 3 (ipykernel)",
   "language": "python",
   "name": "python3"
  },
  "language_info": {
   "codemirror_mode": {
    "name": "ipython",
    "version": 3
   },
   "file_extension": ".py",
   "mimetype": "text/x-python",
   "name": "python",
   "nbconvert_exporter": "python",
   "pygments_lexer": "ipython3",
   "version": "3.10.7"
  }
 },
 "nbformat": 4,
 "nbformat_minor": 5
}
