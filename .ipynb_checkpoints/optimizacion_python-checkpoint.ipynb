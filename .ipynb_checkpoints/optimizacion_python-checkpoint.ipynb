{
 "cells": [
  {
   "cell_type": "markdown",
   "id": "6aee3743",
   "metadata": {},
   "source": [
    "# Introducción a la optimización en Python con Gurobi"
   ]
  },
  {
   "cell_type": "markdown",
   "id": "ae63f7ef",
   "metadata": {},
   "source": [
    "<center>\n",
    "<img src=\"optimizacion.png\">\n"
   ]
  },
  {
   "cell_type": "markdown",
   "id": "a7fd7d68",
   "metadata": {},
   "source": [
    "## Objetivos\n",
    "\n",
    "* Librería Gurobi\n",
    "* Modelamiento matematico\n",
    "* Modelación con Gurobi"
   ]
  },
  {
   "cell_type": "markdown",
   "id": "446c254c",
   "metadata": {},
   "source": [
    "<a id='Indice'></a>\n",
    "## Indice\n",
    "[Inicio ▲](#Indice)\n",
    "\n",
    "1. [Modelamiento Matematico](#Modelamiento-Matematico)\n",
    "1. [Programación Lineal](#Programación-Lineal)\n",
    "1. [Programación Entera](#Programación-Entera)\n",
    "1. [Libreria Gurobi](#Libreria-Gurobi)\n",
    "1. [Modelamiento con Gurobi](#Modelamiento-con-Gurobi)"
   ]
  },
  {
   "cell_type": "markdown",
   "id": "d900ca53",
   "metadata": {},
   "source": [
    "<a id='Modelamiento-Matematico'></a>\n",
    "## Modelamiento Matematico 🎨\n",
    "\n",
    "[Inicio ▲](#Indice)\n",
    "\n",
    "El modelamiento matemático es una estructura cientifica que nos permite mediante una formulación,expresar las relaciones que pueden existir entre un conjunto de eventos,parametros,entidades o entre sistemas.En este sentido generalmente buscamos modelar las relaciones existentes entre fenomenos reales tangibles o posibles intangibles.Es asi que para distintos tipos de fenomenos algunos paradigmas permiten explicar o abstraer de mejor forma las situaciones de analisis.Sin embargo hay algunas clasificaciones iniciales que podemos hacer.\n",
    "\n",
    "### Modelo según el tipo de representación\n",
    "\n",
    "Cuando buscamos modelar matematicamente una situación existen 2 perspectivas fuertes,las que nos permiten distinguir de distinta forma aspectos de la misma naturaleza de la situación o el objeto de analisis y estos son:\n",
    "\n",
    "**Modelos cualitativos**:Estos permiten representar mediante diagramas o graficos,las relaciones entre los sistemas de interes.Asi estos solo buscan describir las direcciones generales o particulares del sistema.\n",
    "\n",
    "**Modelos cuantitativos**:En cambio estos buscan mediante números,representar las relaciones y parametros del o los sistemas,permitiendo la integración de los mecanismos de acción mediante formulas o algoritmos de menor o mayor complejidad.\n",
    "\n",
    "Especificamente en este curso introductorio a optimización,abarcaremos la programación lineal la cual corresponde a un caso particular de la programación diferenciable.\n",
    "\n",
    "<a id='Programación-Lineal'></a>\n",
    "## Programación Lineal 🧮\n",
    "\n",
    "[Inicio ▲](#Indice)\n",
    "\n",
    "Cuando hablamos de programación lineal,estamos considerando el campo que se dedica a maximizar o minimizar una función lineal,a la cual llamamos función objetivo.En este contexto,las variables que estan presentes en esta función se encuentran sujetas a un conjunto de restriciones establecidas en un sistema de ecuaciones.\n",
    "\n",
    "Un modelo tipico de optimización lineal es como el que consideramos a continuación.\n",
    "\n",
    "$max \\{c^Tx :x \\in \\Re \\wedge Ax \\leq b \\wedge x \\geq 0\\}  $\n",
    "\n",
    "Pero tambien podemos desarrollar en su formulación estandar un caso particular.\n",
    "\n",
    "#### Función objetivo\n",
    "$f(x_{1},x_{2})=c_{1}x_{1}+c_{2}x_{2}$\n",
    "\n",
    "#### Restricciones\n",
    "\n",
    "$a_{11}x_{1}+a_{12}x_{2} \\leq b_{1}$\n",
    "\n",
    "$a_{21}x_{1}+a_{22}x_{2} \\leq b_{2}$\n",
    "\n",
    "$a_{31}x_{1}+a_{32}x_{2} \\leq b_{3}$\n",
    "\n",
    "#### Restricciones de no negatividad\n",
    "\n",
    "$x_{1} \\geq 0$\n",
    "\n",
    "$x_{2} \\geq 0$\n",
    "\n",
    "Para la forma estandar de un modelo de programación lineal,podemos nuevamente considerar\n",
    "\n",
    "Generalmente el método para la resolución de problemas de programación lineal es el **método simplex** desarrollado por George Dantzig en 1947,el cual asegura encontrar el optimo global,sin embargo en algunos casos el algoritmo no presenta buenos resultados.Sin embargo existen otros métodos para la resolución de problemas de optimización lineal como el **algoritmo de cambio de base**,**algoritmo de punto interior**,**algoritmo elipsoide**,entre otros los que permiten asegurar optimos globales pero en mejores tiempos de resolución.\n",
    "\n",
    "<a id='Programación-Entera'></a>\n",
    "## Programación-Entera 🎒\n",
    "\n",
    "[Inicio ▲](#Indice)\n",
    "\n",
    "A diferencia de la programación lineal,en este caso si todas las variables desconocidas son enteras,entonces consideramos el problema como de programación entera.Cabe destacar que en este caso los valores de las variables pueden solo tomar valores enteros.Sin embargo,si las variables pueden solo tomar los valores 0 y 1,estamos frente a una subcategoria de la programación entera,llamada programación binaria.\n",
    "\n",
    "Algunos de los métodos mas utilizadas para la resolución de este tipo de modelos corresponden a los algoritmos **Branch and bound**,**Branch and cut**,**planos de corte**,entre otros.\n",
    "\n",
    "A continuación,veremos el formulamiento de un problema clasico de programación entera,especificamente de programacion binaria.\n",
    "\n",
    "### Problema de la mochila simple (Knapsack Problem)\n",
    "\n",
    "Si disponemos de $n$ objetos para llevar en una mochila.Cada uno de los objetos,tiene un peso $p_{j}$ y tiene una utilidad relativa para el viaje de $c_{j}$.Finalmente consideramos que la mochila solo admite un peso máximo de $b$.\n",
    "\n",
    "En este problema buscamos tomar la decisión de cuales son aquellos objetos que debemos seleccionar para llevar en la mochila,de manera tal que maximicemos la utilidad total.\n",
    "\n",
    "Si consideramos que cada objeto que podemos llevar se corresponde con una variable que puede ser asignada o no,entonces podemos definir lo siguiente:\n",
    "\n",
    "$\\begin{equation} x_{j} = \\left\\lbrace \\begin{array}{ll} 1 & \\text{si el objeto j se selecciona }  \\newline 0 & \\text{en otro caso }   \\end{array} \\right. \\end{equation}$\n",
    "\n",
    "Luego podemos definir 2 restricciones para el problema,primero el limite de peso de la mochila de acuerdo a los pesos $p_j$\n",
    "\n",
    "$\\sum_{j=1}^n p_{j}x_{j} \\leq b$\n",
    "\n",
    "y luego la condición para que las variables sean binarias.\n",
    "\n",
    "$x_{j} \\in \\{0,1\\} \\ \\ \\  \\ \\ \\ \\forall \\ \\ \\ j=1,...,n$\n",
    "\n",
    "Finalmente podemos definir la función objetivo que maximiza la utilidad relativa total\n",
    "\n",
    "$max \\sum_{j=1}^n c_{j}x_{j}$\n",
    "\n",
    "### Problema de la mochila de multiple elección \n",
    "\n",
    "A diferencia del problema anterior,en el problema de la mochila de múltiple elección los objetos se encuentran subdivididos en $k$ clases,en donde solo podemos tomar un item de cada una de las clases.De esta forma podemos formalizar el problema como\n",
    "\n",
    "$max \\sum_{i=1}^k \\sum_{j=1}^N v_{i,j}x_{i,j}$\n",
    "\n",
    "$\\sum_{i=1}^k \\sum_{j=1}^N w_{i,j} x_{i,j}$\n",
    "\n",
    "$\\sum_{j=1}^N x_{i,j}=1 \\ \\ \\ \\ \\forall \\ \\ 1\\leq i \\leq k$\n",
    "\n",
    "$x_{i,j} \\in \\{0,1\\} \\ \\ \\ \\forall \\ \\  1 \\leq i  \\leq k ,\\ j \\in N$\n",
    "\n",
    "<a id='Libreria-Gurobi'></a>\n",
    "## Libreria Gurobi 🎨\n",
    "\n",
    "[Inicio ▲](#Indice)\n",
    "\n",
    "Guu... que??😅\n",
    "\n",
    "Gurobi es un software comercial para la resolución de problemas de optimización Lineal,Cuadratica,Lineal Entera,entre otros modelos.La libreria fue desarrollada por parte del equipo que desarrollo CPLEX(otro software de optimización).\n",
    "\n",
    "Uno de los aspectos importantes de Gurobi,es que soporta una amplia variedad de lenguajes como C++,Java,Python,R,MATLAB,AMPL,entre otros.Ademas es posible realizar computo en la nube.\n",
    "\n",
    "En este curso introductorio,utilizaremos la interfaz de JupyterLab para la resolución de problemas de optimización haciendo uso de la libreria Gurobi.\n",
    "\n",
    "### Gurobipy\n",
    "\n",
    "Gurobipy es un modulo que permite utilizar la API con todas las caracteristicas de Gurobi."
   ]
  },
  {
   "cell_type": "markdown",
   "id": "1490b38f",
   "metadata": {},
   "source": [
    "Para hacer uso de esta primero deberemos descargar el instalador desde la web de Gurobi https://www.gurobi.com/downloads/"
   ]
  },
  {
   "cell_type": "markdown",
   "id": "f0f1ef0b",
   "metadata": {},
   "source": [
    "y luego deberemos instalar el modulo desde la terminal"
   ]
  },
  {
   "cell_type": "code",
   "execution_count": null,
   "id": "15e19236",
   "metadata": {},
   "outputs": [],
   "source": [
    "pip install gurobipy"
   ]
  },
  {
   "cell_type": "markdown",
   "id": "349eafe1",
   "metadata": {},
   "source": [
    "Sin embargo como ultimo paso y no menos importante,debemos seleccionar el tipo de licencia que queremos ocupar,la cual puede ser: (1) Licencia de evaluación comercial,(2) Licencia Academica,(3) Licencia de curso on-line y para (4) prueba en la nube.\n",
    "\n",
    "Ya teniendo todo listo,en la próxima sección utilizaremos la libreria gurobi para modelar y resolver algunos problemas clasicos de optimización."
   ]
  },
  {
   "cell_type": "markdown",
   "id": "7ad670ea",
   "metadata": {},
   "source": [
    "<a id='Modelamiento-con-Gurobi'></a>\n",
    "## Modelamiento con Gurobi 🎨\n",
    "\n",
    "[Inicio ▲](#Indice)\n",
    "\n",
    "Como ya vimos es posible modelar distintos procesos del mundo real bajo distintos paradigmas,en este caso buscamos optimizar ya sea maximizando o minimizando una función objetivo,la cual se encuentra sujeta a un conjunto de restricciones.Sin embargo la programación matematica generalmente se encuentra al inicio o a medio camino con la visión del negocio,esto implica que no nos centramos unicamente en modelar cualquier proceso,sino aquellos que sean criticos y/o haya una evidente oportunidad de mejora,la cual beneficie de forma directa a la empresa.\n",
    "\n",
    "Algunas de las áreas en donde existe una mayor aplicación y evidencias de los beneficios de esta tecnica es en:\n",
    "\n",
    "* Manufactura\n",
    "* Logistica\n",
    "* Distribución electrica\n",
    "* Finanzas\n",
    "\n",
    "### Pasos para crear un modelo de optimización\n",
    "\n",
    "- Para diseñar un modelo matematico que represente un sistema real,es necesario abstraer el sistema real mediante el modelamiento matematico.De esta forma primero es necesario definir un set de variables de decisión,las cuales deben ser representativas de aquellas decisiones que buscamos controlar en el sistema real.Sin embargo,estas pueden ser variables de tipo entero o continuas,lo cual podria influir posteriormente en el tiempo de resolución del modelo.\n",
    "\n",
    "- Junto a lo anterior debemos definir un set de restricciones,que capturen los limites globales que definen los valores que pueden tomar las variables de decisión\n",
    "\n",
    "- Finalmente debemos diseñar la función objetivo,la cual captura en gran parte el objetivo principal de la empresa.Esto implica definir si se quiere maximizar o minimizar el costo de la operación completa del proceso y como las variables de decisión interactuan entre ellas para la definición del objetivo.\n",
    "\n",
    "### Diseñando un modelo - Problema del carpintero\n",
    "\n",
    "Para este primer caso resolveremos un problema clasico correspondiente al problema del carpintero.El problema al que se enfrenta el carpintero,corresponde a cuantas mesas y sillas debe fabricar para maximizar sus ingresos.\n",
    "\n",
    "$max \\ \\ 5x_{1}+3x_{2}$\n",
    "\n",
    "$2x_{1}+x_{2}<=40$\n",
    "\n",
    "$x_{1}+2x_{2}<=50$\n",
    "\n",
    "$x_{i} \\geq 0$ \n",
    "\n",
    "De acuerdo al modelo planteado, los valores 5 y 3 que acompañan a la función objetivo corresponden a los ingresos netos por la cantidad de $mesas \\ \\ (x_{1}) \\ \\ y \\ \\ sillas (x_{2})$.Luego tenemos la primera restriccion de mano de obra y la segunda de materiales.En la primera solo se cuentan con 40 horas laborales por semana y una mesa se demora 2 horas en construirse y las sillas demoran 1 hora.En cambio para la materia prima se cuenta con 50 unidades por semana,en donde las mesas requieren de 1 materia prima y las sillas de 2.\n",
    "\n",
    "A continuación se plantea el modelo de optimización mediante la libreria gurobi,asi que primero cargaremos la libreria."
   ]
  },
  {
   "cell_type": "code",
   "execution_count": 3,
   "id": "20730937",
   "metadata": {},
   "outputs": [],
   "source": [
    "from gurobipy import *"
   ]
  },
  {
   "cell_type": "markdown",
   "id": "7aa8329b",
   "metadata": {},
   "source": [
    "Una vez cargado la libreria,creamos un modelo generico con la función ***Model()***.Una vez creado el modelo deberemos generar tanto las variables de decisión que usaremos en el modelo,asi como las constantes,restricciones y función objetivo."
   ]
  },
  {
   "cell_type": "code",
   "execution_count": 4,
   "id": "3fe2b059",
   "metadata": {},
   "outputs": [
    {
     "name": "stdout",
     "output_type": "stream",
     "text": [
      "Set parameter Username\n",
      "Academic license - for non-commercial use only - expires 2023-09-16\n"
     ]
    }
   ],
   "source": [
    "m=Model()\n",
    "x_1=m.addVar(vtype=GRB.CONTINUOUS,name=\"x_1\")\n",
    "x_2=m.addVar(vtype=GRB.CONTINUOUS,name=\"x_2\")\n",
    "\n",
    "c_1=5\n",
    "c_2=3"
   ]
  },
  {
   "cell_type": "markdown",
   "id": "2728c251",
   "metadata": {},
   "source": [
    "Para crear las variables $x_{1}$ y $x_{2}$ dentro del modelo, usamos la función ***addVar()***.En esta debemos especificar si la variable es continua,entera o binaria.Luego definimos las constantes corrspondientes a los ingresos netos por la cantidad tanto de mesas como de sillas."
   ]
  },
  {
   "cell_type": "code",
   "execution_count": 5,
   "id": "3864ffa0",
   "metadata": {},
   "outputs": [],
   "source": [
    "c1=m.addConstr(2*x_1+x_2<=40)\n",
    "c2=m.addConstr(x_1+2*x_2<=50)\n",
    "\n",
    "m.setObjective(c_1*x_1+c_2*x_2,GRB.MAXIMIZE)"
   ]
  },
  {
   "cell_type": "markdown",
   "id": "01e38e93",
   "metadata": {},
   "source": [
    "Luego agregamos las 2 restricciones correspondientes a $2x_{1}+x_{2}\\leq 40$ y $x_{1}+2x_{2}$,mediante la función ***addConstr()***.Finalmente podemos definir la función objetivo mediante la funcion ***setObjective()***,en donde ademas debemos definir si queremos maximizar o minimizar la función.\n",
    "\n",
    "Una vez definimos todos los elementos necesarios para el modelo de optimización,podemos resolver el problema mediante la función ***optimize()***"
   ]
  },
  {
   "cell_type": "code",
   "execution_count": 7,
   "id": "1f208a7e",
   "metadata": {},
   "outputs": [
    {
     "name": "stdout",
     "output_type": "stream",
     "text": [
      "Gurobi Optimizer version 9.5.2 build v9.5.2rc0 (win64)\n",
      "Thread count: 4 physical cores, 8 logical processors, using up to 8 threads\n",
      "Optimize a model with 2 rows, 2 columns and 4 nonzeros\n",
      "Model fingerprint: 0x15d58d31\n",
      "Coefficient statistics:\n",
      "  Matrix range     [1e+00, 2e+00]\n",
      "  Objective range  [3e+00, 5e+00]\n",
      "  Bounds range     [0e+00, 0e+00]\n",
      "  RHS range        [4e+01, 5e+01]\n",
      "Presolve time: 0.02s\n",
      "Presolved: 2 rows, 2 columns, 4 nonzeros\n",
      "\n",
      "Iteration    Objective       Primal Inf.    Dual Inf.      Time\n",
      "       0    8.0000000e+30   3.000000e+30   8.000000e+00      0s\n",
      "       2    1.1000000e+02   0.000000e+00   0.000000e+00      0s\n",
      "\n",
      "Solved in 2 iterations and 0.05 seconds (0.00 work units)\n",
      "Optimal objective  1.100000000e+02\n"
     ]
    }
   ],
   "source": [
    "m.optimize()"
   ]
  },
  {
   "cell_type": "markdown",
   "id": "9837754b",
   "metadata": {},
   "source": [
    "Como se puede observar,el optimizador entrega bastante información una vez resuelto el problema.Primero nos da un detalle de la versión junto con las caracteristicas de la maquina en donde estamos ejecutando el software,luego nos da información respecto al modelo en donde incluso nos muestra cuanto tiempo demora en la resolución...en este caso demoro 0.05s luego de 2 iteraciones,en realidad no es un problema muy complejo 😅.\n",
    "\n",
    "Finalmente nos entrega aspectos generales de la resolución como el Objective,Primal Inf. y Dual Inf.Sin embargo si quisieramos llamar solo a algunos valores especificos como el valor que toma cada variable de decisión,podemos usar la función ***getVars()***"
   ]
  },
  {
   "cell_type": "code",
   "execution_count": 18,
   "id": "efa5f899",
   "metadata": {},
   "outputs": [
    {
     "data": {
      "text/plain": [
       "[<gurobi.Var x_1 (value 10.0)>, <gurobi.Var x_2 (value 20.0)>]"
      ]
     },
     "execution_count": 18,
     "metadata": {},
     "output_type": "execute_result"
    }
   ],
   "source": [
    "m.getVars()"
   ]
  },
  {
   "cell_type": "code",
   "execution_count": null,
   "id": "bdeef95f",
   "metadata": {},
   "outputs": [],
   "source": [
    "Pero tambien podriamos obtener el valor por separada de la función objetivo con la función ***objval()***"
   ]
  },
  {
   "cell_type": "code",
   "execution_count": 10,
   "id": "2107cfdf",
   "metadata": {},
   "outputs": [
    {
     "data": {
      "text/plain": [
       "110.0"
      ]
     },
     "execution_count": 10,
     "metadata": {},
     "output_type": "execute_result"
    }
   ],
   "source": [
    "m.objval"
   ]
  },
  {
   "cell_type": "markdown",
   "id": "959f92bb",
   "metadata": {},
   "source": [
    "De esta forma podemos corrobar el valor del objetivo mediante el reemplazo de las variables de decisión en la función objetivo.De esta forma tenemos que $5x_{1}+3x_{2}=5*10+3*20=110$"
   ]
  },
  {
   "cell_type": "markdown",
   "id": "11a87c98",
   "metadata": {},
   "source": [
    "## Problema de transporte\n",
    "\n",
    "Otro de los problemas de bastante interes y ampliamente desarrollado en la literatura corresponde a los problemas de transporte,especificamente estamos considerando problemas en donde las variables de decisión tomas valores enteros.A pesar de que es posible utilizar el algoritmo simplex para su resolución,tambien es posible la utilización de otros algoritmos mas eficientes para su resolución.\n",
    "\n",
    "Un caso especifico corresponde al suministro que deben realizar $m$ almacenes a $n$ destinos de un determinado producto.Luego la capacidad de la oferta de cada uno de los origenes $i=1,...,m.$,mientas que la demanda de cada destino $j=1,...,n$ es $b_{j}$.Luego el costo de enviar una unidad de producto del origen $i$ al destino $j$ corresponde a $c_{i,j}$.Asi buscamos determinar cual es la cantidad de unidades de producto que se deben enviar desde el origen $i$ al destino $j$,pero minimizando el costo total de envio y ademas asegurando la demanda en los destino y no excediendo la capacidad de los origenes.\n",
    "\n",
    "De esta forma podemos formalizar el problema de la siguiente forma:\n",
    "\n",
    "$min \\sum_{i=1}^m \\sum_{j=1}^n c_{i,j} x_{i,j}$\n",
    "\n",
    "sujeto a las siguientes restricciones\n",
    "\n",
    "$\\sum_{j=1}^n x_{i,j} \\leq a_{i} \\ \\ \\ \\ i=1,2,...,m$\n",
    "\n",
    "$\\sum_{i=1}^m x_{i,j} \\geq b_{j} \\ \\ \\ \\ j=1,2,...,n$\n",
    "\n",
    "$x_{i} \\geq 0 \\ \\ \\ \\ i=1,2,...,m \\ \\ \\ \\ j=1,2,...,n $\n",
    "\n"
   ]
  },
  {
   "cell_type": "markdown",
   "id": "91c998ae",
   "metadata": {},
   "source": [
    "De acuerdo al modelo recien planteado,ahora consideremos el problema de transporte con 3 almacenes que deben abastecer 6 destinos de un producto.En donde la oferta de cada almacen es .... y la demanda a suplir por cada destino es de .....Luego tenemos que los costos de enviar productos desde cada almacen a cada origen se muestran en la siguiente tabla.\n",
    "\n",
    "<table ><tr><th> Costo de envio<th><th> Valor <tr><tr>\n",
    "<tr><td> $c_{1,1}$  <td><td> 10     <td><tr>\n",
    "<tr><td> $c_{1,2}$  <td><td> 10 <td><tr>\n",
    "<tr><td> $c_{1,3}$  <td><td> 10  <td><tr>\n",
    "<tr><td> $c_{1,4}$  <td><td> 10        <td><tr>\n",
    "<tr><td> $c_{2,1}$  <td><td> 10      <td><tr>\n",
    "<tr><td> $c_{2,2}$  <td><td> 10  <td><tr>\n",
    "<tr><td> $c_{2,3}$  <td><td> 10  <td><tr>\n",
    "<tr><td> $c_{2,4}$  <td><td> 10       <td><tr>\n",
    "<tr><td> $c_{3,1}$  <td><td> 10      <td><tr>\n",
    "<tr><td> $c_{3,2}$  <td><td> 10  <td><tr>\n",
    "<tr><td> $c_{3,3}$  <td><td> 10  <td><tr>\n",
    "<tr><td> $c_{3,4}$  <td><td> 10        <td><tr><table>\n",
    "\n",
    "Finalmente se desea determinar las cantidades a enviar desde cada almacen a cada destino."
   ]
  },
  {
   "cell_type": "code",
   "execution_count": null,
   "id": "f4b79528",
   "metadata": {},
   "outputs": [],
   "source": [
    "from gurobipy import *\n",
    "\n",
    "m=Model()\n",
    "x_1=m.addVar(vtype=GRB.CONTINUOUS,name=\"x_1\")\n",
    "x_2=m.addVar(vtype=GRB.CONTINUOUS,name=\"x_2\")\n",
    "\n",
    "c_1=5\n",
    "c_2=3\n",
    "\n",
    "c1=m.addConstr(2*x_1+x_2<=40)\n",
    "c2=m.addConstr(x_1+2*x_2<=50)\n",
    "\n",
    "m.setObjective(c_1*x_1+c_2*x_2,GRB.MAXIMIZE)"
   ]
  },
  {
   "cell_type": "markdown",
   "id": "df4a35ad",
   "metadata": {},
   "source": [
    "## Problema de la mochila"
   ]
  }
 ],
 "metadata": {
  "kernelspec": {
   "display_name": "Python 3 (ipykernel)",
   "language": "python",
   "name": "python3"
  },
  "language_info": {
   "codemirror_mode": {
    "name": "ipython",
    "version": 3
   },
   "file_extension": ".py",
   "mimetype": "text/x-python",
   "name": "python",
   "nbconvert_exporter": "python",
   "pygments_lexer": "ipython3",
   "version": "3.10.7"
  }
 },
 "nbformat": 4,
 "nbformat_minor": 5
}
