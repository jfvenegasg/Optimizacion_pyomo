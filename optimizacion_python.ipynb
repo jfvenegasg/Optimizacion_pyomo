{
 "cells": [
  {
   "cell_type": "markdown",
   "id": "4407c612",
   "metadata": {},
   "source": [
    "# Introducción a la optimización en Python con Pyomo"
   ]
  },
  {
   "cell_type": "markdown",
   "id": "dba09f48",
   "metadata": {},
   "source": [
    "<center>\n",
    "<img src=https://miro.medium.com/max/748/1*emPDLzTy0oW5BWLuxDSbKQ.png>"
   ]
  },
  {
   "cell_type": "markdown",
   "id": "794e4649",
   "metadata": {},
   "source": [
    "## Objetivos\n",
    "\n",
    "* Comprender la importancia del modelado matematico\n",
    "* Como modelar problemas de optimización\n",
    "* Modelar problemas de optimización con la librería Pyomo"
   ]
  },
  {
   "cell_type": "markdown",
   "id": "0a6654d2",
   "metadata": {},
   "source": [
    "<a id='Índice'></a>\n",
    "## Indice\n",
    "[Inicio ▲](#Indice)\n",
    "\n",
    "1. [Modelamiento Matemático](#Modelamiento-Matematico)\n",
    "2. [Programación Lineal](#Programación-Lineal)\n",
    "3. [Programación Entera](#Programación-Entera)\n",
    "4. [Librería Pyomo](#Librería-Pyomo)\n",
    "5. [Modelamiento con Pyomo](#Modelamiento-con-Pyomo)\n",
    "    1. [Problema del carpintero](#Problema-del-carpintero)\n",
    "    2. [Problema de transporte](#Problema-de-transporte)\n",
    "    3. [Problema de la mochila](#Problema-de-la-mochila)"
   ]
  },
  {
   "cell_type": "markdown",
   "id": "bf674f8a",
   "metadata": {},
   "source": [
    "<a id='Modelamiento-Matemático'></a>\n",
    "## Modelamiento Matemático 🥪\n",
    "\n",
    "[Inicio ▲](#Indice)\n",
    "\n",
    "El modelamiento matemático es una estructura científica que nos permite mediante una formulación,expresar las relaciones que pueden existir entre un conjunto de eventos,parámetros,entidades o sistemas.En este sentido generalmente buscamos modelar las relaciones existentes entre fenómenos reales tangibles o intangibles.Es asi que para distintos tipos de fenómenos, algunos paradigmas permiten explicar o abstraer de mejor forma las situaciones de análisis.Sin embargo hay algunas clasificaciones iniciales que podemos hacer.\n",
    "\n",
    "    \n",
    "\n",
    "### Modelo según el tipo de representación\n",
    "\n",
    "Cuando buscamos modelar matemáticamente una situación existen 2 perspectivas fuertes,las que nos permiten distinguir de distinta forma aspectos de la misma naturaleza de la situación o el objeto de análisis y estos son:\n",
    "\n",
    "**Modelos cualitativos**:Estos permiten representar mediante diagramas o gráficos,las relaciones entre los sistemas de interés.Asi estos solo buscan describir las direcciones generales o particulares del sistema.\n",
    "\n",
    "**Modelos cuantitativos**:En cambio estos buscan mediante números,representar las relaciones y parámetros del o los sistemas,permitiendo la integración de los mecanismos de acción mediante fórmulas o algoritmos de menor o mayor complejidad.\n",
    "\n"
   ]
  },
  {
   "cell_type": "markdown",
   "id": "80ca7bb6",
   "metadata": {},
   "source": [
    "Específicamente en este curso introductorio a optimización,revisaremos el modelamiento de algunos modelos clasicos de programación lineal y entera."
   ]
  },
  {
   "cell_type": "markdown",
   "id": "6b12fd73",
   "metadata": {},
   "source": [
    "<a id='Programación-Lineal'></a>\n",
    "## Programación Lineal 🧮\n",
    "\n",
    "[Inicio ▲](#Indice)\n",
    "\n",
    "Cuando hablamos de programación lineal,estamos considerando el campo que se dedica a maximizar o minimizar una función lineal,a la cual llamamos función objetivo.En este contexto,las variables que estan presentes en esta función se encuentran sujetas a un conjunto de restriciones establecidas en un sistema de ecuaciones.\n",
    "\n",
    "Un modelo típico de optimización lineal es como el que consideramos a continuación.\n",
    "\n",
    "$max \\{c^Tx :x \\in \\Re \\wedge Ax \\leq b \\wedge x \\geq 0\\}  $\n",
    "\n",
    "Pero tambien podemos desarrollar en su formulación estándar un caso particular.\n",
    "\n",
    "#### Función objetivo\n",
    "$f(x_{1},x_{2})=c_{1}x_{1}+c_{2}x_{2}$\n",
    "\n",
    "#### Restricciones\n",
    "\n",
    "$a_{11}x_{1}+a_{12}x_{2} \\leq b_{1}$\n",
    "\n",
    "$a_{21}x_{1}+a_{22}x_{2} \\leq b_{2}$\n",
    "\n",
    "$a_{31}x_{1}+a_{32}x_{2} \\leq b_{3}$\n",
    "\n",
    "#### Restricciones de no negatividad\n",
    "\n",
    "$x_{1} \\geq 0$\n",
    "\n",
    "$x_{2} \\geq 0$\n",
    "\n",
    "Generalmente el método para la resolución de problemas de programación lineal es el **método simplex** desarrollado por George Dantzig en 1947,el cual asegura encontrar el optimo global,sin embargo en algunos casos el algoritmo no presenta buenos resultados.Sin embargo existen otros métodos para la resolución de problemas de optimización lineal como el **algoritmo de cambio de base**,**algoritmo de punto interior**,**algoritmo elipsoide**,entre otros los que permiten asegurar óptimos globales pero en mejores tiempos de resolución.\n",
    "\n",
    "<a id='Programación-Entera'></a>\n",
    "## Programación-Entera 📦\n",
    "\n",
    "[Inicio ▲](#Indice)\n",
    "\n",
    "A diferencia de la programación lineal,en este caso todas las variables desconocidas son enteras,entonces consideramos el problema como de programación entera.Cabe destacar que en este caso los valores de las variables pueden solo tomar valores enteros.Sin embargo,si las variables pueden solo tomar los valores 0 y 1,estamos frente a una subcategoria de la programación entera,llamada **programación binaria.**\n",
    "\n",
    "Algunos de los métodos mas utilizadas para la resolución de este tipo de modelos corresponden a los algoritmos **Branch and bound**,**Branch and cut**,**planos de corte**,entre otros.\n",
    "\n",
    "A continuación,veremos el formulamiento de un problema clásico y de bastante interés en la literatura de programación entera,específicamente de programación binaria.\n",
    "\n",
    "### Problema de la mochila simple (Knapsack Problem)\n",
    "\n",
    "Si disponemos de $n$ objetos para llevar en una mochila.Cada uno de los objetos,tiene un peso $p_{j}$ y tiene una utilidad relativa para el viaje de $c_{j}$.Finalmente consideramos que la mochila solo admite un peso máximo de $b$.\n",
    "\n",
    "En este problema buscamos tomar la decisión de cuales son aquellos objetos que debemos seleccionar para llevar en la mochila,de manera tal que maximicemos la utilidad total.\n",
    "\n",
    "Si consideramos que cada objeto que podemos llevar se corresponde con una variable que puede ser asignada o no,entonces podemos definir lo siguiente:\n",
    "\n",
    "$\\begin{equation} x_{j} = \\left\\lbrace \\begin{array}{ll} 1 & \\text{si el objeto j se selecciona }  \\newline 0 & \\text{en otro caso }   \\end{array} \\right. \\end{equation}$\n",
    "\n",
    "Luego podemos definir 2 restricciones para el problema,primero el límite de peso de la mochila de acuerdo a los pesos $p_j$\n",
    "\n",
    "$\\sum_{j=1}^n p_{j}x_{j} \\leq b$\n",
    "\n",
    "y luego la condición para que las variables sean binarias.\n",
    "\n",
    "$x_{j} \\in \\{0,1\\} \\ \\ \\  \\ \\ \\ \\forall \\ \\ \\ j=1,...,n$\n",
    "\n",
    "Finalmente podemos definir la función objetivo que maximiza la utilidad relativa total\n",
    "\n",
    "$max \\sum_{j=1}^n c_{j}x_{j}$\n",
    "\n",
    "### Problema de la mochila de multiple elección \n",
    "\n",
    "A diferencia del problema anterior,en el problema de la mochila de múltiple elección los objetos se encuentran subdivididos en $k$ clases,en donde solo podemos tomar un item de cada una de las clases.De esta forma podemos formalizar el problema como\n",
    "\n",
    "$max \\sum_{i=1}^k \\sum_{j=1}^N v_{i,j}x_{i,j}$\n",
    "\n",
    "$\\sum_{i=1}^k \\sum_{j=1}^N w_{i,j} x_{i,j}$\n",
    "\n",
    "$\\sum_{j=1}^N x_{i,j}=1 \\ \\ \\ \\ \\forall \\ \\ 1\\leq i \\leq k$\n",
    "\n",
    "$x_{i,j} \\in \\{0,1\\} \\ \\ \\ \\forall \\ \\  1 \\leq i  \\leq k ,\\ j \\in N$\n",
    "\n"
   ]
  },
  {
   "cell_type": "markdown",
   "id": "93f13a28-545f-4d32-9076-981c71cae373",
   "metadata": {},
   "source": [
    "<a id='Librería-Pyomo'></a>\n",
    "## Librería Pyomo 🎨\n",
    "\n",
    "[Inicio ▲](#Indice)\n",
    "\n",
    "Pyomo es un software open source desarrollado para python para el modelamiento y resolución de modelos de optimización Lineasl,Cuadratica,No-lineal,Estocastica,entre otros.\n",
    "\n",
    "En este curso introductorio,utilizaremos la interfaz de JupyterLab para la resolución de problemas de optimización haciendo uso de la libreria Pyomo."
   ]
  },
  {
   "cell_type": "markdown",
   "id": "46697050",
   "metadata": {},
   "source": [
    "Si quieres conocer mas sobre la libreria Pyomo pueden acceder a su web http://www.pyomo.org/"
   ]
  },
  {
   "cell_type": "markdown",
   "id": "d13ff52e",
   "metadata": {},
   "source": [
    "Para instalar la libreria,debemos ejecutar la siguiente linea"
   ]
  },
  {
   "cell_type": "code",
   "execution_count": 11,
   "id": "32c81323",
   "metadata": {},
   "outputs": [
    {
     "name": "stdout",
     "output_type": "stream",
     "text": [
      "Note: you may need to restart the kernel to use updated packages.Requirement already satisfied: pyomo in c:\\users\\administrator\\appdata\\local\\programs\\python\\python310\\lib\\site-packages (6.6.2)\n",
      "Requirement already satisfied: ply in c:\\users\\administrator\\appdata\\local\\programs\\python\\python310\\lib\\site-packages (from pyomo) (3.11)\n",
      "\n"
     ]
    },
    {
     "name": "stderr",
     "output_type": "stream",
     "text": [
      "\n",
      "[notice] A new release of pip is available: 23.0.1 -> 23.3\n",
      "[notice] To update, run: C:\\Python310\\python.exe -m pip install --upgrade pip\n"
     ]
    }
   ],
   "source": [
    "pip install pyomo"
   ]
  },
  {
   "cell_type": "markdown",
   "id": "9d92f2c0",
   "metadata": {},
   "source": [
    "<a id='Modelamiento-con-Pyomo'></a>\n",
    "### Modelamiento con Pyomo 🚀\n",
    "\n",
    "[Inicio ▲](#Indice)\n",
    "\n",
    "Como ya vimos es posible modelar distintos procesos del mundo real bajo distintos paradigmas,en este caso buscamos optimizar ya sea maximizando o minimizando una función objetivo,la cual se encuentra sujeta a un conjunto de restricciones.Sin embargo la programación matemática generalmente se encuentra al inicio o a medio camino con la visión del negocio,esto implica que no nos centramos unicamente en modelar cualquier proceso,sino aquellos que sean críticos y/o haya una evidente oportunidad de mejora,la cual beneficie de forma directa a la empresa.\n",
    "\n",
    "Algunas de las áreas en donde existe una mayor aplicación y evidencias de los beneficios de esta técnica es en:\n",
    "\n",
    "* Manufactura\n",
    "* Logística\n",
    "* Distribución eléctrica\n",
    "* Finanzas\n",
    "\n",
    "### Pasos para crear un modelo de optimización\n",
    "\n",
    "- Para diseñar un modelo matemático que represente un sistema real,es necesario abstraer el sistema real mediante el modelamiento matemático.De esta forma primero es necesario definir un set de variables de decisión,las cuales deben ser representativas de aquellas decisiones que buscamos controlar en el sistema real.Sin embargo,estas pueden ser variables de tipo entero o continuas,lo cual podria influir posteriormente en el tiempo de resolución del modelo.\n",
    "\n",
    "- Junto a lo anterior debemos definir un set de restricciones,que capturen los límites globales que definen los valores que pueden tomar las variables de decisión\n",
    "\n",
    "- Finalmente debemos diseñar la función objetivo,la cual captura en gran parte el objetivo principal de la empresa.Esto implica definir si se quiere maximizar o minimizar el costo de la operación completa del proceso y como las variables de decisión interactuan entre ellas para la definición del objetivo."
   ]
  },
  {
   "cell_type": "markdown",
   "id": "0a5845ff-ee73-4577-9fc4-aab34024f8ca",
   "metadata": {},
   "source": [
    "<a id='Problema-del-carpintero'></a>\n",
    "### Problema del carpintero\n",
    "\n",
    "[Inicio ▲](#Indice)\n",
    "\n",
    "Para este primer caso resolveremos un problema clásico correspondiente al problema del carpintero.El problema al que se enfrenta el carpintero,corresponde a cuantas mesas y sillas debe fabricar para maximizar sus ingresos.\n",
    "\n",
    "$max \\ \\ 5x_{1}+3x_{2}$\n",
    "\n",
    "$2x_{1}+x_{2}<=40$\n",
    "\n",
    "$x_{1}+2x_{2}<=50$\n",
    "\n",
    "$x_{i} \\geq 0$ \n",
    "\n",
    "De acuerdo al modelo planteado, los valores 5 y 3 que acompañan a la función objetivo corresponden a los ingresos netos por la cantidad de $mesas (x_{1}) \\ \\ y \\ \\ sillas (x_{2})$.Luego tenemos la primera restricción de mano de obra y la segunda de materiales.En la primera solo se cuentan con 40 horas laborales por semana y una mesa se demora 2 horas en construirse y las sillas demoran 1 hora.En cambio para la materia prima se cuenta con 50 unidades por semana,en donde las mesas requieren de 1 materia prima y las sillas de 2.\n",
    "\n",
    "A continuación se plantea el modelo de optimización mediante la libreria gurobi,asi que primero cargaremos la librería."
   ]
  },
  {
   "cell_type": "code",
   "execution_count": 7,
   "id": "fd5d3a7a",
   "metadata": {},
   "outputs": [],
   "source": [
    "from pyomo.environ import *"
   ]
  },
  {
   "cell_type": "markdown",
   "id": "39b46abc",
   "metadata": {},
   "source": [
    "Una vez cargada la librería,creamos un modelo genérico con la función **ConcreteModel()**.Luego en el modelo deberemos generar tanto las variables de decisión que usaremos en el modelo,asi como las constantes,restricciones y función objetivo."
   ]
  },
  {
   "cell_type": "code",
   "execution_count": 8,
   "id": "3d10bbe4",
   "metadata": {},
   "outputs": [],
   "source": [
    "modelo=ConcreteModel()"
   ]
  },
  {
   "cell_type": "markdown",
   "id": "39dfe924-166f-408e-a62e-d514f7b2d07b",
   "metadata": {},
   "source": [
    "Para crear las variables $x_{1}$ y $x_{2}$ dentro del modelo, usamos la función ***Var()*** y en esta vamos a especificar que las variables sean enteras  y no negativas,ademas especificamos que pueden tomar cualquier valor mayor a 0."
   ]
  },
  {
   "cell_type": "code",
   "execution_count": 9,
   "id": "722dce50-dd29-4c6b-8fea-ea9a53f53b86",
   "metadata": {},
   "outputs": [],
   "source": [
    "modelo.x1=Var(within=NonNegativeIntegers,bounds=(0,None))\n",
    "modelo.x2=Var(within=NonNegativeIntegers,bounds=(0,None))"
   ]
  },
  {
   "cell_type": "markdown",
   "id": "09868e7c-4c65-4521-83fc-558eb6ff059b",
   "metadata": {},
   "source": [
    "Ahora especificamos la función objetivo del modelo y las restricciones"
   ]
  },
  {
   "cell_type": "code",
   "execution_count": 10,
   "id": "e9ec9a82-91ee-4eb9-b8b6-5a35858aa7f8",
   "metadata": {},
   "outputs": [],
   "source": [
    "modelo.objetivo = Objective(expr=5 * modelo.x1 + 3 * modelo.x2, sense=maximize)\n",
    "\n",
    "modelo.restriccion1 = Constraint(expr=2 * modelo.x1 + modelo.x2 <= 40)\n",
    "modelo.restriccion2 = Constraint(expr=modelo.x1 + 2 * modelo.x2 <= 50)\n"
   ]
  },
  {
   "cell_type": "markdown",
   "id": "ee65f5e1-c6e3-4c9d-8955-267c2f83f0f9",
   "metadata": {},
   "source": [
    "Una vez especificado el modelo,tener que definir el solver que utilizaremos.En este caso usamos **glpk**,por lo tanto le tenemos que pasar la ruta"
   ]
  },
  {
   "cell_type": "code",
   "execution_count": 11,
   "id": "3cd8fdbe-9ac9-4d93-984e-2ec8fe1c2448",
   "metadata": {},
   "outputs": [],
   "source": [
    "glpsol_path = 'C:\\winglpk-4.65\\glpk-4.65\\w64\\glpsol.exe'\n",
    "solver = SolverFactory('glpk', executable=glpsol_path)  "
   ]
  },
  {
   "cell_type": "code",
   "execution_count": null,
   "id": "9e14c71c-6259-465d-9353-7c45fcfbba47",
   "metadata": {},
   "outputs": [],
   "source": [
    "Si definimos todo de forma correcta, ahora podemos solucionar el modelo."
   ]
  },
  {
   "cell_type": "code",
   "execution_count": 12,
   "id": "42b6b4ec-5034-4a82-adbc-60f4f24c2690",
   "metadata": {},
   "outputs": [],
   "source": [
    "resultado = solver.solve(modelo)"
   ]
  },
  {
   "cell_type": "markdown",
   "id": "c16ddbc4-4c96-40b0-be19-a82d54c76f68",
   "metadata": {},
   "source": [
    "Una vez resulto el modelo,podemos verificar los valores de las variables del modelo junto al valor de la funcion objetivo."
   ]
  },
  {
   "cell_type": "code",
   "execution_count": 13,
   "id": "668973f5-5b3e-4eb7-b221-fe23bc3f0c21",
   "metadata": {},
   "outputs": [
    {
     "name": "stdout",
     "output_type": "stream",
     "text": [
      "\n",
      "Resultados:\n",
      "Valor óptimo de la función objetivo: 110.0\n",
      "x1 = 10.0\n",
      "x2 = 20.0\n"
     ]
    }
   ],
   "source": [
    "# Mostrar valor de funcion objetivo y variables\n",
    "#modelo.pprint()\n",
    "print(\"\\nResultados:\")\n",
    "print(\"Valor óptimo de la función objetivo:\", value(modelo.objetivo))\n",
    "print(\"x1 =\", value(modelo.x1))\n",
    "print(\"x2 =\", value(modelo.x2))"
   ]
  },
  {
   "cell_type": "markdown",
   "id": "05c618eb",
   "metadata": {},
   "source": [
    "Podemos ver que los valores de las variables son $x_{1}=10$ y $x_{2}=20$.De esta forma si reemplazamos los valores en la restricciones veremos que ambas se cumplen y en la funcion objetivo obtenemos el maximo de **110**"
   ]
  },
  {
   "cell_type": "markdown",
   "id": "594a4f5d",
   "metadata": {},
   "source": [
    "- Restriccion 1     $\\rightarrow 2*(10)+20 \\leq 40$ \n",
    "- Restriccion 2     $\\rightarrow 10+2*(20) \\leq 50$\n",
    "- Funcion Objetivo  $\\rightarrow 5x_{1}+3x_{2}=5*10+3*20=50+60=110 $"
   ]
  },
  {
   "cell_type": "markdown",
   "id": "02fe675e",
   "metadata": {},
   "source": [
    "<a id='Problema-del-carpintero'></a>\n",
    "### Problema de transporte\n",
    "\n",
    "[Inicio ▲](#Indice)\n",
    "\n",
    "Otro de los problemas de bastante interés y ampliamente desarrollado en la literatura corresponde a los problemas de transporte,específicamente estamos considerando problemas en donde las variables de decisión toman valores enteros.\n",
    "\n",
    "Un caso clasico de los problemas de transporte corresponde al suministro que deben realizar $m_{i}$ almacenes a $n_{j}$ destinos de un determinado producto.Luego la capacidad de la oferta de cada uno de los orígenes $i=1,...,m.$,mientas que la demanda de cada destino $j=1,...,n$ es $b_{j}$.Luego el costo de enviar una unidad de producto del origen $i$ al destino $j$ corresponde a $c_{i,j}$.De esta forma buscamos determinar la cantidad optima de unidades de producto que se deben enviar desde los origenes $i$ a los destinos $j$.Esto se realiza minimizando el costo total de envío, asegurando la demanda en los destinos y no excediendo la capacidad de los origenes.\n",
    "\n",
    "De esta forma podemos formalizar el problema de la siguiente forma:\n",
    "\n",
    "$min \\sum_{i=1}^m \\sum_{j=1}^n c_{i,j} x_{i,j}$\n",
    "\n",
    "sujeto a las siguientes restricciones\n",
    "\n",
    "$\\sum_{j=1}^n x_{i,j} \\leq a_{i} \\ \\ \\ \\ i=1,2,...,m$\n",
    "\n",
    "$\\sum_{i=1}^m x_{i,j} \\geq b_{j} \\ \\ \\ \\ j=1,2,...,n$\n",
    "\n",
    "$x_{i} \\geq 0 \\ \\ \\ \\ i=1,2,...,m \\ \\ \\ \\ j=1,2,...,n $\n",
    "\n"
   ]
  },
  {
   "cell_type": "markdown",
   "id": "3009267e",
   "metadata": {},
   "source": [
    "Ahora consideremos un caso particular del problema de transporte, en donde 3 almacenes que deben abastecer 3 destinos de un producto.En donde la oferta de cada almacen es 2.045,2.234 y 1.800 y la demanda a suplir en cada destino es de 1.523,1.768 y 850 Luego tenemos que los costos de enviar productos desde cada almacen a cada origen se muestran en la siguiente tabla.\n",
    "\n",
    "<table ><tr><th> Costo de envio<th><th> Valor <tr><tr>\n",
    "<tr><td> $c_{1,1}$  <td><td> 10.200     <td><tr>\n",
    "<tr><td> $c_{1,2}$  <td><td> 13.450 <td><tr>\n",
    "<tr><td> $c_{1,3}$  <td><td> 11.890  <td><tr>\n",
    "<tr><td> $c_{2,1}$  <td><td> 15.912      <td><tr>\n",
    "<tr><td> $c_{2,2}$  <td><td> 15.340  <td><tr>\n",
    "<tr><td> $c_{2,3}$  <td><td> 12.670  <td><tr>\n",
    "<tr><td> $c_{3,1}$  <td><td> 16.312      <td><tr>\n",
    "<tr><td> $c_{3,2}$  <td><td> 16.917  <td><tr>\n",
    "<tr><td> $c_{3,3}$  <td><td> 13.218  <td><tr><table>"
   ]
  },
  {
   "cell_type": "markdown",
   "id": "2f13bac3",
   "metadata": {},
   "source": [
    "Finalmente, se desea determinar las cantidades optimas a enviar desde cada almacen a cada destino,pero minimizando el costo total de envio."
   ]
  },
  {
   "cell_type": "code",
   "execution_count": null,
   "id": "faa5fa00-cd2e-48a8-8fc4-c4f5a132293f",
   "metadata": {},
   "outputs": [],
   "source": [
    "Si formalizamos el modelo de optimización,tenemos lo siguiente:"
   ]
  },
  {
   "cell_type": "code",
   "execution_count": 20,
   "id": "48c26e7a-5714-471a-8f3c-4ca7df46e04c",
   "metadata": {},
   "outputs": [
    {
     "name": "stdout",
     "output_type": "stream",
     "text": [
      "\n",
      "Resultados:\n",
      "Valor óptimo de la función objetivo: $52,438,640.00\n",
      "x1_1 = 1523.0 x1_2 = 522.0 x1_3 = 0.0\n",
      "x2_1 = 0.0 x2_2 = 1246.0 x2_3 = 850.0\n",
      "x3_1 = 0.0 x3_2 = 0.0 x3_3 = 0.0\n"
     ]
    }
   ],
   "source": [
    "from pyomo.environ import *\n",
    "\n",
    "modelo=ConcreteModel()\n",
    "\n",
    "modelo.x1_1=Var(within=NonNegativeIntegers,bounds=(0,None))\n",
    "modelo.x1_2=Var(within=NonNegativeIntegers,bounds=(0,None))\n",
    "modelo.x1_3=Var(within=NonNegativeIntegers,bounds=(0,None))\n",
    "modelo.x2_1=Var(within=NonNegativeIntegers,bounds=(0,None))\n",
    "modelo.x2_2=Var(within=NonNegativeIntegers,bounds=(0,None))\n",
    "modelo.x2_3=Var(within=NonNegativeIntegers,bounds=(0,None))\n",
    "modelo.x3_1=Var(within=NonNegativeIntegers,bounds=(0,None))\n",
    "modelo.x3_2=Var(within=NonNegativeIntegers,bounds=(0,None))\n",
    "modelo.x3_3=Var(within=NonNegativeIntegers,bounds=(0,None))\n",
    "\n",
    "c1_1=10200\n",
    "c1_2=13450\n",
    "c1_3=11890\n",
    "c2_1=15912\n",
    "c2_2=15340\n",
    "c2_3=12670\n",
    "c3_1=16312\n",
    "c3_2=16917\n",
    "c3_3=13218\n",
    "\n",
    "modelo.objetivo = Objective(expr=c1_1*modelo.x1_1+c1_2*modelo.x1_2+c1_3*modelo.x1_3+\n",
    "                                 c2_1*modelo.x2_1+c2_2*modelo.x2_2+c2_3*modelo.x2_3+\n",
    "                                 c3_1*modelo.x3_1+c3_2*modelo.x3_2+c3_3*modelo.x3_3, sense=minimize)\n",
    "\n",
    "modelo.restriccion1 = Constraint(expr=modelo.x1_1 + modelo.x1_2+modelo.x1_3 <= 2045)\n",
    "modelo.restriccion2 = Constraint(expr=modelo.x2_1 + modelo.x2_2+modelo.x2_3 <= 2234)\n",
    "modelo.restriccion3 = Constraint(expr=modelo.x3_1 + modelo.x3_2+modelo.x3_3 <= 1800)\n",
    "\n",
    "modelo.restriccion4 = Constraint(expr=modelo.x1_1 + modelo.x2_1+modelo.x3_1 >= 1523)\n",
    "modelo.restriccion5 = Constraint(expr=modelo.x1_2 + modelo.x2_2+modelo.x3_2 >= 1768)\n",
    "modelo.restriccion6 = Constraint(expr=modelo.x1_3 + modelo.x2_3+modelo.x3_3 >= 850)\n",
    "\n",
    "glpsol_path = 'C:\\winglpk-4.65\\glpk-4.65\\w64\\glpsol.exe'\n",
    "solver = SolverFactory('glpk', executable=glpsol_path)  \n",
    "\n",
    "resultado = solver.solve(modelo)\n",
    "\n",
    "# Mostrar valor de funcion objetivo y variables\n",
    "#modelo.pprint()\n",
    "print(\"\\nResultados:\")\n",
    "print(\"Valor óptimo de la función objetivo:\", \"${:,.2f}\".format(value(modelo.objetivo)))\n",
    "print(\"x1_1 =\", value(modelo.x1_1),\"x1_2 =\", value(modelo.x1_2),\"x1_3 =\", value(modelo.x1_3))\n",
    "print(\"x2_1 =\", value(modelo.x2_1),\"x2_2 =\", value(modelo.x2_2),\"x2_3 =\", value(modelo.x2_3))\n",
    "print(\"x3_1 =\", value(modelo.x3_1),\"x3_2 =\", value(modelo.x3_2),\"x3_3 =\", value(modelo.x3_3))\n",
    "\n"
   ]
  },
  {
   "cell_type": "markdown",
   "id": "1ff05d72",
   "metadata": {},
   "source": [
    "Al analizar los resultados obtenidos por pyomo,podemos ver que el modelo es capaz de satisfacer la demanda de cada destino.\n",
    "\n",
    "Asi el costo total de envio es de **$52.438.640** ,el que puede parecer un costo alto,sin embargo es la mejor combinación de envios que a determinado el modelo."
   ]
  },
  {
   "cell_type": "markdown",
   "id": "f5157a49",
   "metadata": {},
   "source": [
    "<a id='Problema-de-la-mochila'></a>\n",
    "### Problema de la mochila (knapsack problem)\n",
    "\n",
    "[Inicio ▲](#Indice)\n",
    "\n",
    "El problema de la mochila es un caso particular,pero que a su vez comprende una familia de subproblemas.En este contexto estamos hablando de problemas de optimización combinatoria,sin embargo en esta sección solo consideraremos una versión basica del problema de la mochila,ya que este tipo de problemas se consideran como algoritmos NP-hard,lo cual implica que el tiempo de resolución crece de forma exponencial.En versiones posteriores de este curso consideraremos otras formulaciones de este tipo de problemas.\n",
    "\n",
    "Consideremos el caso de una persona que desea ir de excursión y para tal caso,debe llevar una mochila con ciertos objetos,sin embargo hay 5 objetos que desea llevar los cuales exceden el peso que admite la mochila de 60 kg.Consideremos la siguiente tabla con los articulos,su peso y utilidad relativa.\n",
    "\n",
    "<table ><tr><th> Articulo $x_{j}$<th><th> 1 <th><th> 2 <th><th> 3 <th><th> 4 <th><th> 5 <tr><tr>\n",
    "<tr><td> Peso $w_{j}$ <td><td> 42     <td><td> 23     <td><td> 21     <td><td> 15     <td><td> 7     <td><tr>\n",
    "<tr><td> Valor $v_{j}$  <td><td> 100  <td><td> 60 <td><td> 70 <td><td> 15 <td><td> 15    <td><tr><table>\n",
    "\n",
    "Asi podemos formalizar el problema de la mochila de acuerdo a lo siguiente\n",
    "    \n",
    "$max \\sum_{j=1}^n v_{j} x_{j}$\n",
    "\n",
    "sujeto a \n",
    "\n",
    "$\\sum_{j=1}^n w_{j}x_{j} \\leq c \\ \\ \\ \\ i=1,2,...,m$\n",
    "\n",
    "$x_{i} \\in \\{0,1\\}$"
   ]
  },
  {
   "cell_type": "markdown",
   "id": "774a2d89",
   "metadata": {},
   "source": [
    "De acuerdo al formulamiento anterior,ahora podemos modelar el problema con la librería gurobi para su resolución numérica."
   ]
  },
  {
   "cell_type": "code",
   "execution_count": 5,
   "id": "d37a77a8-96db-4085-9277-b872ac6d51ec",
   "metadata": {},
   "outputs": [
    {
     "name": "stdout",
     "output_type": "stream",
     "text": [
      "\n",
      "Resultados:\n",
      "x1 = 0.0 x2 = 1.0 x3 = 1.0 x4 = 1.0 x5 = 0.0\n",
      "El peso de la mochila es de: 59.0\n",
      "Valor óptimo de la función objetivo: 145.0\n"
     ]
    }
   ],
   "source": [
    "from pyomo.environ import *\n",
    "\n",
    "modelo=ConcreteModel()\n",
    "\n",
    "modelo.x1=Var(within=Binary,bounds=(0,1))\n",
    "modelo.x2=Var(within=Binary,bounds=(0,1))\n",
    "modelo.x3=Var(within=Binary,bounds=(0,1))\n",
    "modelo.x4=Var(within=Binary,bounds=(0,1))\n",
    "modelo.x5=Var(within=Binary,bounds=(0,1))\n",
    "\n",
    "v1=100\n",
    "v2=60\n",
    "v3=70\n",
    "v4=15\n",
    "v5=15\n",
    "\n",
    "w1=42\n",
    "w2=23\n",
    "w3=21\n",
    "w4=15\n",
    "w5=7\n",
    "\n",
    "modelo.restriccion1 = Constraint(expr=w1*modelo.x1 + w2*modelo.x2+w3*modelo.x3+w4*modelo.x4+w5*modelo.x5 <= 60)\n",
    "\n",
    "modelo.objetivo = Objective(expr=v1*modelo.x1+v2*modelo.x2+v3*modelo.x3+v4*modelo.x4+v5*modelo.x5, sense=maximize)\n",
    "\n",
    "glpsol_path = 'C:\\winglpk-4.65\\glpk-4.65\\w64\\glpsol.exe'\n",
    "solver = SolverFactory('glpk', executable=glpsol_path)  \n",
    "\n",
    "resultado = solver.solve(modelo)\n",
    "\n",
    "# Mostrar valor de funcion objetivo y variables\n",
    "#modelo.pprint()\n",
    "print(\"\\nResultados:\")\n",
    "print(\"x1 =\", value(modelo.x1),\"x2 =\", value(modelo.x2),\"x3 =\", value(modelo.x3),\"x4 =\", value(modelo.x4),\"x5 =\", value(modelo.x5))\n",
    "print(\"El peso de la mochila es de:\",value(modelo.x2)*w2+value(modelo.x3)*w3+value(modelo.x4)*w4)\n",
    "print(\"Valor óptimo de la función objetivo:\", value(modelo.objetivo))\n"
   ]
  },
  {
   "cell_type": "markdown",
   "id": "566471b4",
   "metadata": {},
   "source": [
    "De acuerdo a los resultados obtenidos por el optimizador,podemos ver que los objetos que deberiamos llevar en la mochila son los objetos 2,3 y 4.\n",
    "\n",
    "De esta forma podemos ver que el peso completo de la mochila es de $p_{1}*x_{1}+p_{2}*x_{2}+p_{3}*x_{3}+p_{4}*x_{4}+p_{5}*x_{5}=$ 0x100+1x60+1x70+1x15+0x15=145"
   ]
  },
  {
   "cell_type": "markdown",
   "id": "2803ef9d",
   "metadata": {},
   "source": [
    "Y hemos llegado al final de este curso introductorio a la optimización con la libreria Pyomo.Hay varios tópicos relacionados al modelamiento matemático y la optimización que no se tocan en este curso,pero se veran en próximas ediciones.\n",
    "\n",
    "Ante cualquier duda o comentario me puedes escribir a j.venegasgutierrez@gmail.com o jvenegasg@docente.uss.cl\n",
    "\n",
    "Saludos 🧭\n"
   ]
  }
 ],
 "metadata": {
  "kernelspec": {
   "display_name": "Python 3 (ipykernel)",
   "language": "python",
   "name": "python3"
  },
  "language_info": {
   "codemirror_mode": {
    "name": "ipython",
    "version": 3
   },
   "file_extension": ".py",
   "mimetype": "text/x-python",
   "name": "python",
   "nbconvert_exporter": "python",
   "pygments_lexer": "ipython3",
   "version": "3.10.7"
  }
 },
 "nbformat": 4,
 "nbformat_minor": 5
}
