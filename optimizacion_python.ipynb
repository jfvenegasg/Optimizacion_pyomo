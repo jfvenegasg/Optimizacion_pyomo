{
 "cells": [
  {
   "cell_type": "markdown",
   "id": "a23020b0",
   "metadata": {},
   "source": [
    "# Introducción a optimización en python"
   ]
  },
  {
   "cell_type": "markdown",
   "id": "53660585",
   "metadata": {},
   "source": [
    "<center>\n",
    "<img src=\"optimizacion.png\">\n"
   ]
  },
  {
   "cell_type": "markdown",
   "id": "3948ed50",
   "metadata": {},
   "source": [
    "## Objetivos\n",
    "\n",
    "* Librería Gurobi\n",
    "* Modelamiento matematico\n",
    "* Modelación con Gurobi"
   ]
  },
  {
   "cell_type": "markdown",
   "id": "2e3512a7",
   "metadata": {},
   "source": [
    "## Indice\n",
    "\n",
    "1. [Modelamiento Matematico](#Modelamiento-Matematico)\n",
    "1. [Libreria Gurobi](#Libreria-Gurobi)\n",
    "1. [Modelación con Gurobi](#Modelación-con-Gurobi)"
   ]
  },
  {
   "cell_type": "markdown",
   "id": "a0e56cf4",
   "metadata": {},
   "source": [
    "## Modelamiento Matematico 🎨\n",
    "\n",
    "El modelamiento matemático es una estructura cientifica que nos permite mediante una formulación,expresar las relaciones que pueden existir entre un conjunto de eventos,parametros,entidades o entre sistemas.En este sentido generalmente buscamos modelar las relaciones existentes entre fenomenos reales tangibles o posibles intangibles.Es asi que para distintos tipos de fenomenos algunos paradigmas permiten explicar o abstraer de mejor forma las situaciones de analisis.Sin embargo hay algunas clasificaciones iniciales que podemos hacer.\n",
    "\n",
    "### Modelo según el tipo de representación\n",
    "\n",
    "Cuando buscamos modelar matematicamente una situación existen 2 perspectivas fuertes,las que nos permiten distinguir de distinta forma aspectos de la misma naturaleza de la situación o el objeto de analisis y estos son:\n",
    "\n",
    "**Modelos cualitativos**:Estos permiten representar mediante diagramas o graficos,las relaciones entre los sistemas de interes.Asi estos solo buscan describir las direcciones generales o particulares del sistema.\n",
    "\n",
    "**Modelos cuantitativos**:En cambio estos buscan mediante números,representar las relaciones y parametros del o los sistemas,permitiendo la integración de los mecanismos de acción mediante formulas o algoritmos de menor o mayor complejidad.\n",
    "\n",
    "Especificamente en este curso introductorio a optimización,abarcaremos la programación lineal la cual corresponde a un caso particular de la programación diferenciable.\n",
    "\n",
    "## Programación lineal\n",
    "\n",
    "Cuando hablamos de programación lineal,estamos considerando el campo que se dedica a maximizar o minimizar una función lineal,a la cual llamamos función objetivo.En este contexto,las variables que estan presentes en esta función se encuentran sujetas a un conjunto de restriciones establecidas en un sistema de ecuaciones.\n",
    "\n",
    "Un modelo tipico de optimización lineal es como el que consideramos a continuación.\n",
    "\n",
    "$max \\{c^Tx :x \\in \\Re \\wedge Ax \\leq b \\wedge x \\geq 0\\}  $\n",
    "\n",
    "Pero tambien podemos desarrollar en su formulación estandar un caso particular.\n",
    "\n",
    "#### Función objetivo\n",
    "$f(x_{1},x_{2})=c_{1}x_{1}+c_{2}x_{2}$\n",
    "\n",
    "#### Restricciones\n",
    "\n",
    "$a_{11}x_{1}+a_{12}x_{2} \\leq b_{1}$\n",
    "\n",
    "$a_{21}x_{1}+a_{22}x_{2} \\leq b_{2}$\n",
    "\n",
    "$a_{31}x_{1}+a_{32}x_{2} \\leq b_{3}$\n",
    "\n",
    "#### Restricciones de no negatividad\n",
    "\n",
    "$x_{1} \\geq 0$\n",
    "\n",
    "$x_{2} \\geq 0$\n",
    "\n",
    "Para la forma estandar de un modelo de programación lineal,podemos nuevamente considerar\n",
    "\n",
    "#### Forma estandar y no estandar\n",
    "\n",
    "$max: c^Tx$\n",
    "\n",
    "$s.a: Ax \\leq b$\n",
    "\n",
    "$x\\geq 0$\n",
    "\n",
    "En cambio si buscamos minimizar la función objetivo,podemos tener la siguiente forma.\n",
    "\n",
    "$min: c^Tx$\n",
    "\n",
    "$s.a: Ax \\leq b$\n",
    "\n",
    "$x\\geq 0$\n"
   ]
  }
 ],
 "metadata": {
  "kernelspec": {
   "display_name": "Python 3 (ipykernel)",
   "language": "python",
   "name": "python3"
  },
  "language_info": {
   "codemirror_mode": {
    "name": "ipython",
    "version": 3
   },
   "file_extension": ".py",
   "mimetype": "text/x-python",
   "name": "python",
   "nbconvert_exporter": "python",
   "pygments_lexer": "ipython3",
   "version": "3.10.7"
  }
 },
 "nbformat": 4,
 "nbformat_minor": 5
}
